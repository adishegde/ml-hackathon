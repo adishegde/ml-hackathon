{
  "cells": [
    {
      "metadata": {
        "_uuid": "8f2839f25d086af736a60e9eeb907d3b93b6e0e5",
        "_cell_guid": "b1076dfc-b9ad-4769-8c92-a6c4dae69d19",
        "trusted": true
      },
      "cell_type": "code",
      "source": "import numpy as np\nimport pandas as pd\nimport matplotlib.pyplot as plt\nimport seaborn as sns\nimport nltk\nimport re\nimport sklearn\n\n%matplotlib inline",
      "execution_count": 1,
      "outputs": []
    },
    {
      "metadata": {
        "_cell_guid": "79c7e3d0-c299-4dcb-8224-4455121ee9b0",
        "_uuid": "d629ff2d2480ee46fbb7e2d37f6b5fab8052498a",
        "trusted": true
      },
      "cell_type": "code",
      "source": "data = pd.read_csv(\"../input/loan.csv\")\ndata.head(10)",
      "execution_count": 2,
      "outputs": [
        {
          "output_type": "stream",
          "text": "/opt/conda/lib/python3.6/site-packages/IPython/core/interactiveshell.py:2785: DtypeWarning: Columns (19,55) have mixed types. Specify dtype option on import or set low_memory=False.\n  interactivity=interactivity, compiler=compiler, result=result)\n",
          "name": "stderr"
        },
        {
          "output_type": "execute_result",
          "execution_count": 2,
          "data": {
            "text/plain": "        id  member_id      ...       total_cu_tl  inq_last_12m\n0  1077501    1296599      ...               NaN           NaN\n1  1077430    1314167      ...               NaN           NaN\n2  1077175    1313524      ...               NaN           NaN\n3  1076863    1277178      ...               NaN           NaN\n4  1075358    1311748      ...               NaN           NaN\n5  1075269    1311441      ...               NaN           NaN\n6  1069639    1304742      ...               NaN           NaN\n7  1072053    1288686      ...               NaN           NaN\n8  1071795    1306957      ...               NaN           NaN\n9  1071570    1306721      ...               NaN           NaN\n\n[10 rows x 74 columns]",
            "text/html": "<div>\n<style scoped>\n    .dataframe tbody tr th:only-of-type {\n        vertical-align: middle;\n    }\n\n    .dataframe tbody tr th {\n        vertical-align: top;\n    }\n\n    .dataframe thead th {\n        text-align: right;\n    }\n</style>\n<table border=\"1\" class=\"dataframe\">\n  <thead>\n    <tr style=\"text-align: right;\">\n      <th></th>\n      <th>id</th>\n      <th>member_id</th>\n      <th>loan_amnt</th>\n      <th>funded_amnt</th>\n      <th>funded_amnt_inv</th>\n      <th>term</th>\n      <th>int_rate</th>\n      <th>installment</th>\n      <th>grade</th>\n      <th>sub_grade</th>\n      <th>emp_title</th>\n      <th>emp_length</th>\n      <th>home_ownership</th>\n      <th>annual_inc</th>\n      <th>verification_status</th>\n      <th>issue_d</th>\n      <th>loan_status</th>\n      <th>pymnt_plan</th>\n      <th>url</th>\n      <th>desc</th>\n      <th>purpose</th>\n      <th>title</th>\n      <th>zip_code</th>\n      <th>addr_state</th>\n      <th>dti</th>\n      <th>delinq_2yrs</th>\n      <th>earliest_cr_line</th>\n      <th>inq_last_6mths</th>\n      <th>mths_since_last_delinq</th>\n      <th>mths_since_last_record</th>\n      <th>open_acc</th>\n      <th>pub_rec</th>\n      <th>revol_bal</th>\n      <th>revol_util</th>\n      <th>total_acc</th>\n      <th>initial_list_status</th>\n      <th>out_prncp</th>\n      <th>out_prncp_inv</th>\n      <th>total_pymnt</th>\n      <th>total_pymnt_inv</th>\n      <th>total_rec_prncp</th>\n      <th>total_rec_int</th>\n      <th>total_rec_late_fee</th>\n      <th>recoveries</th>\n      <th>collection_recovery_fee</th>\n      <th>last_pymnt_d</th>\n      <th>last_pymnt_amnt</th>\n      <th>next_pymnt_d</th>\n      <th>last_credit_pull_d</th>\n      <th>collections_12_mths_ex_med</th>\n      <th>mths_since_last_major_derog</th>\n      <th>policy_code</th>\n      <th>application_type</th>\n      <th>annual_inc_joint</th>\n      <th>dti_joint</th>\n      <th>verification_status_joint</th>\n      <th>acc_now_delinq</th>\n      <th>tot_coll_amt</th>\n      <th>tot_cur_bal</th>\n      <th>open_acc_6m</th>\n      <th>open_il_6m</th>\n      <th>open_il_12m</th>\n      <th>open_il_24m</th>\n      <th>mths_since_rcnt_il</th>\n      <th>total_bal_il</th>\n      <th>il_util</th>\n      <th>open_rv_12m</th>\n      <th>open_rv_24m</th>\n      <th>max_bal_bc</th>\n      <th>all_util</th>\n      <th>total_rev_hi_lim</th>\n      <th>inq_fi</th>\n      <th>total_cu_tl</th>\n      <th>inq_last_12m</th>\n    </tr>\n  </thead>\n  <tbody>\n    <tr>\n      <th>0</th>\n      <td>1077501</td>\n      <td>1296599</td>\n      <td>5000.0</td>\n      <td>5000.0</td>\n      <td>4975.0</td>\n      <td>36 months</td>\n      <td>10.65</td>\n      <td>162.87</td>\n      <td>B</td>\n      <td>B2</td>\n      <td>NaN</td>\n      <td>10+ years</td>\n      <td>RENT</td>\n      <td>24000.0</td>\n      <td>Verified</td>\n      <td>Dec-2011</td>\n      <td>Fully Paid</td>\n      <td>n</td>\n      <td>https://www.lendingclub.com/browse/loanDetail....</td>\n      <td>Borrower added on 12/22/11 &gt; I need to upgra...</td>\n      <td>credit_card</td>\n      <td>Computer</td>\n      <td>860xx</td>\n      <td>AZ</td>\n      <td>27.65</td>\n      <td>0.0</td>\n      <td>Jan-1985</td>\n      <td>1.0</td>\n      <td>NaN</td>\n      <td>NaN</td>\n      <td>3.0</td>\n      <td>0.0</td>\n      <td>13648.0</td>\n      <td>83.7</td>\n      <td>9.0</td>\n      <td>f</td>\n      <td>0.00</td>\n      <td>0.00</td>\n      <td>5861.071414</td>\n      <td>5831.78</td>\n      <td>5000.00</td>\n      <td>861.07</td>\n      <td>0.00</td>\n      <td>0.00</td>\n      <td>0.00</td>\n      <td>Jan-2015</td>\n      <td>171.62</td>\n      <td>NaN</td>\n      <td>Jan-2016</td>\n      <td>0.0</td>\n      <td>NaN</td>\n      <td>1.0</td>\n      <td>INDIVIDUAL</td>\n      <td>NaN</td>\n      <td>NaN</td>\n      <td>NaN</td>\n      <td>0.0</td>\n      <td>NaN</td>\n      <td>NaN</td>\n      <td>NaN</td>\n      <td>NaN</td>\n      <td>NaN</td>\n      <td>NaN</td>\n      <td>NaN</td>\n      <td>NaN</td>\n      <td>NaN</td>\n      <td>NaN</td>\n      <td>NaN</td>\n      <td>NaN</td>\n      <td>NaN</td>\n      <td>NaN</td>\n      <td>NaN</td>\n      <td>NaN</td>\n      <td>NaN</td>\n    </tr>\n    <tr>\n      <th>1</th>\n      <td>1077430</td>\n      <td>1314167</td>\n      <td>2500.0</td>\n      <td>2500.0</td>\n      <td>2500.0</td>\n      <td>60 months</td>\n      <td>15.27</td>\n      <td>59.83</td>\n      <td>C</td>\n      <td>C4</td>\n      <td>Ryder</td>\n      <td>&lt; 1 year</td>\n      <td>RENT</td>\n      <td>30000.0</td>\n      <td>Source Verified</td>\n      <td>Dec-2011</td>\n      <td>Charged Off</td>\n      <td>n</td>\n      <td>https://www.lendingclub.com/browse/loanDetail....</td>\n      <td>Borrower added on 12/22/11 &gt; I plan to use t...</td>\n      <td>car</td>\n      <td>bike</td>\n      <td>309xx</td>\n      <td>GA</td>\n      <td>1.00</td>\n      <td>0.0</td>\n      <td>Apr-1999</td>\n      <td>5.0</td>\n      <td>NaN</td>\n      <td>NaN</td>\n      <td>3.0</td>\n      <td>0.0</td>\n      <td>1687.0</td>\n      <td>9.4</td>\n      <td>4.0</td>\n      <td>f</td>\n      <td>0.00</td>\n      <td>0.00</td>\n      <td>1008.710000</td>\n      <td>1008.71</td>\n      <td>456.46</td>\n      <td>435.17</td>\n      <td>0.00</td>\n      <td>117.08</td>\n      <td>1.11</td>\n      <td>Apr-2013</td>\n      <td>119.66</td>\n      <td>NaN</td>\n      <td>Sep-2013</td>\n      <td>0.0</td>\n      <td>NaN</td>\n      <td>1.0</td>\n      <td>INDIVIDUAL</td>\n      <td>NaN</td>\n      <td>NaN</td>\n      <td>NaN</td>\n      <td>0.0</td>\n      <td>NaN</td>\n      <td>NaN</td>\n      <td>NaN</td>\n      <td>NaN</td>\n      <td>NaN</td>\n      <td>NaN</td>\n      <td>NaN</td>\n      <td>NaN</td>\n      <td>NaN</td>\n      <td>NaN</td>\n      <td>NaN</td>\n      <td>NaN</td>\n      <td>NaN</td>\n      <td>NaN</td>\n      <td>NaN</td>\n      <td>NaN</td>\n      <td>NaN</td>\n    </tr>\n    <tr>\n      <th>2</th>\n      <td>1077175</td>\n      <td>1313524</td>\n      <td>2400.0</td>\n      <td>2400.0</td>\n      <td>2400.0</td>\n      <td>36 months</td>\n      <td>15.96</td>\n      <td>84.33</td>\n      <td>C</td>\n      <td>C5</td>\n      <td>NaN</td>\n      <td>10+ years</td>\n      <td>RENT</td>\n      <td>12252.0</td>\n      <td>Not Verified</td>\n      <td>Dec-2011</td>\n      <td>Fully Paid</td>\n      <td>n</td>\n      <td>https://www.lendingclub.com/browse/loanDetail....</td>\n      <td>NaN</td>\n      <td>small_business</td>\n      <td>real estate business</td>\n      <td>606xx</td>\n      <td>IL</td>\n      <td>8.72</td>\n      <td>0.0</td>\n      <td>Nov-2001</td>\n      <td>2.0</td>\n      <td>NaN</td>\n      <td>NaN</td>\n      <td>2.0</td>\n      <td>0.0</td>\n      <td>2956.0</td>\n      <td>98.5</td>\n      <td>10.0</td>\n      <td>f</td>\n      <td>0.00</td>\n      <td>0.00</td>\n      <td>3003.653644</td>\n      <td>3003.65</td>\n      <td>2400.00</td>\n      <td>603.65</td>\n      <td>0.00</td>\n      <td>0.00</td>\n      <td>0.00</td>\n      <td>Jun-2014</td>\n      <td>649.91</td>\n      <td>NaN</td>\n      <td>Jan-2016</td>\n      <td>0.0</td>\n      <td>NaN</td>\n      <td>1.0</td>\n      <td>INDIVIDUAL</td>\n      <td>NaN</td>\n      <td>NaN</td>\n      <td>NaN</td>\n      <td>0.0</td>\n      <td>NaN</td>\n      <td>NaN</td>\n      <td>NaN</td>\n      <td>NaN</td>\n      <td>NaN</td>\n      <td>NaN</td>\n      <td>NaN</td>\n      <td>NaN</td>\n      <td>NaN</td>\n      <td>NaN</td>\n      <td>NaN</td>\n      <td>NaN</td>\n      <td>NaN</td>\n      <td>NaN</td>\n      <td>NaN</td>\n      <td>NaN</td>\n      <td>NaN</td>\n    </tr>\n    <tr>\n      <th>3</th>\n      <td>1076863</td>\n      <td>1277178</td>\n      <td>10000.0</td>\n      <td>10000.0</td>\n      <td>10000.0</td>\n      <td>36 months</td>\n      <td>13.49</td>\n      <td>339.31</td>\n      <td>C</td>\n      <td>C1</td>\n      <td>AIR RESOURCES BOARD</td>\n      <td>10+ years</td>\n      <td>RENT</td>\n      <td>49200.0</td>\n      <td>Source Verified</td>\n      <td>Dec-2011</td>\n      <td>Fully Paid</td>\n      <td>n</td>\n      <td>https://www.lendingclub.com/browse/loanDetail....</td>\n      <td>Borrower added on 12/21/11 &gt; to pay for prop...</td>\n      <td>other</td>\n      <td>personel</td>\n      <td>917xx</td>\n      <td>CA</td>\n      <td>20.00</td>\n      <td>0.0</td>\n      <td>Feb-1996</td>\n      <td>1.0</td>\n      <td>35.0</td>\n      <td>NaN</td>\n      <td>10.0</td>\n      <td>0.0</td>\n      <td>5598.0</td>\n      <td>21.0</td>\n      <td>37.0</td>\n      <td>f</td>\n      <td>0.00</td>\n      <td>0.00</td>\n      <td>12226.302212</td>\n      <td>12226.30</td>\n      <td>10000.00</td>\n      <td>2209.33</td>\n      <td>16.97</td>\n      <td>0.00</td>\n      <td>0.00</td>\n      <td>Jan-2015</td>\n      <td>357.48</td>\n      <td>NaN</td>\n      <td>Jan-2015</td>\n      <td>0.0</td>\n      <td>NaN</td>\n      <td>1.0</td>\n      <td>INDIVIDUAL</td>\n      <td>NaN</td>\n      <td>NaN</td>\n      <td>NaN</td>\n      <td>0.0</td>\n      <td>NaN</td>\n      <td>NaN</td>\n      <td>NaN</td>\n      <td>NaN</td>\n      <td>NaN</td>\n      <td>NaN</td>\n      <td>NaN</td>\n      <td>NaN</td>\n      <td>NaN</td>\n      <td>NaN</td>\n      <td>NaN</td>\n      <td>NaN</td>\n      <td>NaN</td>\n      <td>NaN</td>\n      <td>NaN</td>\n      <td>NaN</td>\n      <td>NaN</td>\n    </tr>\n    <tr>\n      <th>4</th>\n      <td>1075358</td>\n      <td>1311748</td>\n      <td>3000.0</td>\n      <td>3000.0</td>\n      <td>3000.0</td>\n      <td>60 months</td>\n      <td>12.69</td>\n      <td>67.79</td>\n      <td>B</td>\n      <td>B5</td>\n      <td>University Medical Group</td>\n      <td>1 year</td>\n      <td>RENT</td>\n      <td>80000.0</td>\n      <td>Source Verified</td>\n      <td>Dec-2011</td>\n      <td>Current</td>\n      <td>n</td>\n      <td>https://www.lendingclub.com/browse/loanDetail....</td>\n      <td>Borrower added on 12/21/11 &gt; I plan on combi...</td>\n      <td>other</td>\n      <td>Personal</td>\n      <td>972xx</td>\n      <td>OR</td>\n      <td>17.94</td>\n      <td>0.0</td>\n      <td>Jan-1996</td>\n      <td>0.0</td>\n      <td>38.0</td>\n      <td>NaN</td>\n      <td>15.0</td>\n      <td>0.0</td>\n      <td>27783.0</td>\n      <td>53.9</td>\n      <td>38.0</td>\n      <td>f</td>\n      <td>766.90</td>\n      <td>766.90</td>\n      <td>3242.170000</td>\n      <td>3242.17</td>\n      <td>2233.10</td>\n      <td>1009.07</td>\n      <td>0.00</td>\n      <td>0.00</td>\n      <td>0.00</td>\n      <td>Jan-2016</td>\n      <td>67.79</td>\n      <td>Feb-2016</td>\n      <td>Jan-2016</td>\n      <td>0.0</td>\n      <td>NaN</td>\n      <td>1.0</td>\n      <td>INDIVIDUAL</td>\n      <td>NaN</td>\n      <td>NaN</td>\n      <td>NaN</td>\n      <td>0.0</td>\n      <td>NaN</td>\n      <td>NaN</td>\n      <td>NaN</td>\n      <td>NaN</td>\n      <td>NaN</td>\n      <td>NaN</td>\n      <td>NaN</td>\n      <td>NaN</td>\n      <td>NaN</td>\n      <td>NaN</td>\n      <td>NaN</td>\n      <td>NaN</td>\n      <td>NaN</td>\n      <td>NaN</td>\n      <td>NaN</td>\n      <td>NaN</td>\n      <td>NaN</td>\n    </tr>\n    <tr>\n      <th>5</th>\n      <td>1075269</td>\n      <td>1311441</td>\n      <td>5000.0</td>\n      <td>5000.0</td>\n      <td>5000.0</td>\n      <td>36 months</td>\n      <td>7.90</td>\n      <td>156.46</td>\n      <td>A</td>\n      <td>A4</td>\n      <td>Veolia Transportaton</td>\n      <td>3 years</td>\n      <td>RENT</td>\n      <td>36000.0</td>\n      <td>Source Verified</td>\n      <td>Dec-2011</td>\n      <td>Fully Paid</td>\n      <td>n</td>\n      <td>https://www.lendingclub.com/browse/loanDetail....</td>\n      <td>NaN</td>\n      <td>wedding</td>\n      <td>My wedding loan I promise to pay back</td>\n      <td>852xx</td>\n      <td>AZ</td>\n      <td>11.20</td>\n      <td>0.0</td>\n      <td>Nov-2004</td>\n      <td>3.0</td>\n      <td>NaN</td>\n      <td>NaN</td>\n      <td>9.0</td>\n      <td>0.0</td>\n      <td>7963.0</td>\n      <td>28.3</td>\n      <td>12.0</td>\n      <td>f</td>\n      <td>0.00</td>\n      <td>0.00</td>\n      <td>5631.377753</td>\n      <td>5631.38</td>\n      <td>5000.00</td>\n      <td>631.38</td>\n      <td>0.00</td>\n      <td>0.00</td>\n      <td>0.00</td>\n      <td>Jan-2015</td>\n      <td>161.03</td>\n      <td>NaN</td>\n      <td>Sep-2015</td>\n      <td>0.0</td>\n      <td>NaN</td>\n      <td>1.0</td>\n      <td>INDIVIDUAL</td>\n      <td>NaN</td>\n      <td>NaN</td>\n      <td>NaN</td>\n      <td>0.0</td>\n      <td>NaN</td>\n      <td>NaN</td>\n      <td>NaN</td>\n      <td>NaN</td>\n      <td>NaN</td>\n      <td>NaN</td>\n      <td>NaN</td>\n      <td>NaN</td>\n      <td>NaN</td>\n      <td>NaN</td>\n      <td>NaN</td>\n      <td>NaN</td>\n      <td>NaN</td>\n      <td>NaN</td>\n      <td>NaN</td>\n      <td>NaN</td>\n      <td>NaN</td>\n    </tr>\n    <tr>\n      <th>6</th>\n      <td>1069639</td>\n      <td>1304742</td>\n      <td>7000.0</td>\n      <td>7000.0</td>\n      <td>7000.0</td>\n      <td>60 months</td>\n      <td>15.96</td>\n      <td>170.08</td>\n      <td>C</td>\n      <td>C5</td>\n      <td>Southern Star Photography</td>\n      <td>8 years</td>\n      <td>RENT</td>\n      <td>47004.0</td>\n      <td>Not Verified</td>\n      <td>Dec-2011</td>\n      <td>Current</td>\n      <td>n</td>\n      <td>https://www.lendingclub.com/browse/loanDetail....</td>\n      <td>Borrower added on 12/18/11 &gt; I am planning o...</td>\n      <td>debt_consolidation</td>\n      <td>Loan</td>\n      <td>280xx</td>\n      <td>NC</td>\n      <td>23.51</td>\n      <td>0.0</td>\n      <td>Jul-2005</td>\n      <td>1.0</td>\n      <td>NaN</td>\n      <td>NaN</td>\n      <td>7.0</td>\n      <td>0.0</td>\n      <td>17726.0</td>\n      <td>85.6</td>\n      <td>11.0</td>\n      <td>f</td>\n      <td>1889.15</td>\n      <td>1889.15</td>\n      <td>8136.840000</td>\n      <td>8136.84</td>\n      <td>5110.85</td>\n      <td>3025.99</td>\n      <td>0.00</td>\n      <td>0.00</td>\n      <td>0.00</td>\n      <td>Jan-2016</td>\n      <td>170.08</td>\n      <td>Feb-2016</td>\n      <td>Jan-2016</td>\n      <td>0.0</td>\n      <td>NaN</td>\n      <td>1.0</td>\n      <td>INDIVIDUAL</td>\n      <td>NaN</td>\n      <td>NaN</td>\n      <td>NaN</td>\n      <td>0.0</td>\n      <td>NaN</td>\n      <td>NaN</td>\n      <td>NaN</td>\n      <td>NaN</td>\n      <td>NaN</td>\n      <td>NaN</td>\n      <td>NaN</td>\n      <td>NaN</td>\n      <td>NaN</td>\n      <td>NaN</td>\n      <td>NaN</td>\n      <td>NaN</td>\n      <td>NaN</td>\n      <td>NaN</td>\n      <td>NaN</td>\n      <td>NaN</td>\n      <td>NaN</td>\n    </tr>\n    <tr>\n      <th>7</th>\n      <td>1072053</td>\n      <td>1288686</td>\n      <td>3000.0</td>\n      <td>3000.0</td>\n      <td>3000.0</td>\n      <td>36 months</td>\n      <td>18.64</td>\n      <td>109.43</td>\n      <td>E</td>\n      <td>E1</td>\n      <td>MKC Accounting</td>\n      <td>9 years</td>\n      <td>RENT</td>\n      <td>48000.0</td>\n      <td>Source Verified</td>\n      <td>Dec-2011</td>\n      <td>Fully Paid</td>\n      <td>n</td>\n      <td>https://www.lendingclub.com/browse/loanDetail....</td>\n      <td>Borrower added on 12/16/11 &gt; Downpayment for...</td>\n      <td>car</td>\n      <td>Car Downpayment</td>\n      <td>900xx</td>\n      <td>CA</td>\n      <td>5.35</td>\n      <td>0.0</td>\n      <td>Jan-2007</td>\n      <td>2.0</td>\n      <td>NaN</td>\n      <td>NaN</td>\n      <td>4.0</td>\n      <td>0.0</td>\n      <td>8221.0</td>\n      <td>87.5</td>\n      <td>4.0</td>\n      <td>f</td>\n      <td>0.00</td>\n      <td>0.00</td>\n      <td>3938.144334</td>\n      <td>3938.14</td>\n      <td>3000.00</td>\n      <td>938.14</td>\n      <td>0.00</td>\n      <td>0.00</td>\n      <td>0.00</td>\n      <td>Jan-2015</td>\n      <td>111.34</td>\n      <td>NaN</td>\n      <td>Dec-2014</td>\n      <td>0.0</td>\n      <td>NaN</td>\n      <td>1.0</td>\n      <td>INDIVIDUAL</td>\n      <td>NaN</td>\n      <td>NaN</td>\n      <td>NaN</td>\n      <td>0.0</td>\n      <td>NaN</td>\n      <td>NaN</td>\n      <td>NaN</td>\n      <td>NaN</td>\n      <td>NaN</td>\n      <td>NaN</td>\n      <td>NaN</td>\n      <td>NaN</td>\n      <td>NaN</td>\n      <td>NaN</td>\n      <td>NaN</td>\n      <td>NaN</td>\n      <td>NaN</td>\n      <td>NaN</td>\n      <td>NaN</td>\n      <td>NaN</td>\n      <td>NaN</td>\n    </tr>\n    <tr>\n      <th>8</th>\n      <td>1071795</td>\n      <td>1306957</td>\n      <td>5600.0</td>\n      <td>5600.0</td>\n      <td>5600.0</td>\n      <td>60 months</td>\n      <td>21.28</td>\n      <td>152.39</td>\n      <td>F</td>\n      <td>F2</td>\n      <td>NaN</td>\n      <td>4 years</td>\n      <td>OWN</td>\n      <td>40000.0</td>\n      <td>Source Verified</td>\n      <td>Dec-2011</td>\n      <td>Charged Off</td>\n      <td>n</td>\n      <td>https://www.lendingclub.com/browse/loanDetail....</td>\n      <td>Borrower added on 12/21/11 &gt; I own a small h...</td>\n      <td>small_business</td>\n      <td>Expand Business &amp; Buy Debt Portfolio</td>\n      <td>958xx</td>\n      <td>CA</td>\n      <td>5.55</td>\n      <td>0.0</td>\n      <td>Apr-2004</td>\n      <td>2.0</td>\n      <td>NaN</td>\n      <td>NaN</td>\n      <td>11.0</td>\n      <td>0.0</td>\n      <td>5210.0</td>\n      <td>32.6</td>\n      <td>13.0</td>\n      <td>f</td>\n      <td>0.00</td>\n      <td>0.00</td>\n      <td>646.020000</td>\n      <td>646.02</td>\n      <td>162.02</td>\n      <td>294.94</td>\n      <td>0.00</td>\n      <td>189.06</td>\n      <td>2.09</td>\n      <td>Apr-2012</td>\n      <td>152.39</td>\n      <td>NaN</td>\n      <td>Aug-2012</td>\n      <td>0.0</td>\n      <td>NaN</td>\n      <td>1.0</td>\n      <td>INDIVIDUAL</td>\n      <td>NaN</td>\n      <td>NaN</td>\n      <td>NaN</td>\n      <td>0.0</td>\n      <td>NaN</td>\n      <td>NaN</td>\n      <td>NaN</td>\n      <td>NaN</td>\n      <td>NaN</td>\n      <td>NaN</td>\n      <td>NaN</td>\n      <td>NaN</td>\n      <td>NaN</td>\n      <td>NaN</td>\n      <td>NaN</td>\n      <td>NaN</td>\n      <td>NaN</td>\n      <td>NaN</td>\n      <td>NaN</td>\n      <td>NaN</td>\n      <td>NaN</td>\n    </tr>\n    <tr>\n      <th>9</th>\n      <td>1071570</td>\n      <td>1306721</td>\n      <td>5375.0</td>\n      <td>5375.0</td>\n      <td>5350.0</td>\n      <td>60 months</td>\n      <td>12.69</td>\n      <td>121.45</td>\n      <td>B</td>\n      <td>B5</td>\n      <td>Starbucks</td>\n      <td>&lt; 1 year</td>\n      <td>RENT</td>\n      <td>15000.0</td>\n      <td>Verified</td>\n      <td>Dec-2011</td>\n      <td>Charged Off</td>\n      <td>n</td>\n      <td>https://www.lendingclub.com/browse/loanDetail....</td>\n      <td>Borrower added on 12/16/11 &gt; I'm trying to b...</td>\n      <td>other</td>\n      <td>Building my credit history.</td>\n      <td>774xx</td>\n      <td>TX</td>\n      <td>18.08</td>\n      <td>0.0</td>\n      <td>Sep-2004</td>\n      <td>0.0</td>\n      <td>NaN</td>\n      <td>NaN</td>\n      <td>2.0</td>\n      <td>0.0</td>\n      <td>9279.0</td>\n      <td>36.5</td>\n      <td>3.0</td>\n      <td>f</td>\n      <td>0.00</td>\n      <td>0.00</td>\n      <td>1476.190000</td>\n      <td>1469.34</td>\n      <td>673.48</td>\n      <td>533.42</td>\n      <td>0.00</td>\n      <td>269.29</td>\n      <td>2.52</td>\n      <td>Nov-2012</td>\n      <td>121.45</td>\n      <td>NaN</td>\n      <td>Mar-2013</td>\n      <td>0.0</td>\n      <td>NaN</td>\n      <td>1.0</td>\n      <td>INDIVIDUAL</td>\n      <td>NaN</td>\n      <td>NaN</td>\n      <td>NaN</td>\n      <td>0.0</td>\n      <td>NaN</td>\n      <td>NaN</td>\n      <td>NaN</td>\n      <td>NaN</td>\n      <td>NaN</td>\n      <td>NaN</td>\n      <td>NaN</td>\n      <td>NaN</td>\n      <td>NaN</td>\n      <td>NaN</td>\n      <td>NaN</td>\n      <td>NaN</td>\n      <td>NaN</td>\n      <td>NaN</td>\n      <td>NaN</td>\n      <td>NaN</td>\n      <td>NaN</td>\n    </tr>\n  </tbody>\n</table>\n</div>"
          },
          "metadata": {}
        }
      ]
    },
    {
      "metadata": {
        "trusted": true,
        "_uuid": "54ebdb9f98f78721e4996b1476ce3829a943e726"
      },
      "cell_type": "code",
      "source": "data.shape",
      "execution_count": 3,
      "outputs": [
        {
          "output_type": "execute_result",
          "execution_count": 3,
          "data": {
            "text/plain": "(887379, 74)"
          },
          "metadata": {}
        }
      ]
    },
    {
      "metadata": {
        "trusted": true,
        "_uuid": "241932019adc8f0607f1faacf858708a5588362a"
      },
      "cell_type": "code",
      "source": "data.columns.sort_values()",
      "execution_count": 4,
      "outputs": [
        {
          "output_type": "execute_result",
          "execution_count": 4,
          "data": {
            "text/plain": "Index(['acc_now_delinq', 'addr_state', 'all_util', 'annual_inc',\n       'annual_inc_joint', 'application_type', 'collection_recovery_fee',\n       'collections_12_mths_ex_med', 'delinq_2yrs', 'desc', 'dti', 'dti_joint',\n       'earliest_cr_line', 'emp_length', 'emp_title', 'funded_amnt',\n       'funded_amnt_inv', 'grade', 'home_ownership', 'id', 'il_util',\n       'initial_list_status', 'inq_fi', 'inq_last_12m', 'inq_last_6mths',\n       'installment', 'int_rate', 'issue_d', 'last_credit_pull_d',\n       'last_pymnt_amnt', 'last_pymnt_d', 'loan_amnt', 'loan_status',\n       'max_bal_bc', 'member_id', 'mths_since_last_delinq',\n       'mths_since_last_major_derog', 'mths_since_last_record',\n       'mths_since_rcnt_il', 'next_pymnt_d', 'open_acc', 'open_acc_6m',\n       'open_il_12m', 'open_il_24m', 'open_il_6m', 'open_rv_12m',\n       'open_rv_24m', 'out_prncp', 'out_prncp_inv', 'policy_code', 'pub_rec',\n       'purpose', 'pymnt_plan', 'recoveries', 'revol_bal', 'revol_util',\n       'sub_grade', 'term', 'title', 'tot_coll_amt', 'tot_cur_bal',\n       'total_acc', 'total_bal_il', 'total_cu_tl', 'total_pymnt',\n       'total_pymnt_inv', 'total_rec_int', 'total_rec_late_fee',\n       'total_rec_prncp', 'total_rev_hi_lim', 'url', 'verification_status',\n       'verification_status_joint', 'zip_code'],\n      dtype='object')"
          },
          "metadata": {}
        }
      ]
    },
    {
      "metadata": {
        "_uuid": "8a37996465a81d2265c541a371a791e745005d9a"
      },
      "cell_type": "markdown",
      "source": "# Analysis of loan status"
    },
    {
      "metadata": {
        "trusted": true,
        "_uuid": "b04b62ce99774c9d6908a97a1a31a413d26d5d64"
      },
      "cell_type": "code",
      "source": "data.loan_status.unique()",
      "execution_count": 5,
      "outputs": [
        {
          "output_type": "execute_result",
          "execution_count": 5,
          "data": {
            "text/plain": "array(['Fully Paid', 'Charged Off', 'Current', 'Default',\n       'Late (31-120 days)', 'In Grace Period', 'Late (16-30 days)',\n       'Does not meet the credit policy. Status:Fully Paid',\n       'Does not meet the credit policy. Status:Charged Off', 'Issued'],\n      dtype=object)"
          },
          "metadata": {}
        }
      ]
    },
    {
      "metadata": {
        "trusted": true,
        "_uuid": "f8162612ea05763ee00354810abea8a253f1fc4a"
      },
      "cell_type": "code",
      "source": "data.loan_status.value_counts()",
      "execution_count": 6,
      "outputs": [
        {
          "output_type": "execute_result",
          "execution_count": 6,
          "data": {
            "text/plain": "Current                                                601779\nFully Paid                                             207723\nCharged Off                                             45248\nLate (31-120 days)                                      11591\nIssued                                                   8460\nIn Grace Period                                          6253\nLate (16-30 days)                                        2357\nDoes not meet the credit policy. Status:Fully Paid       1988\nDefault                                                  1219\nDoes not meet the credit policy. Status:Charged Off       761\nName: loan_status, dtype: int64"
          },
          "metadata": {}
        }
      ]
    },
    {
      "metadata": {
        "_uuid": "87c141e705159e1ec881e455cd154fef53e41e8d"
      },
      "cell_type": "markdown",
      "source": "*Issued* is not related to our predictions since it does not talk about fradulent behaviour. Similarly *In Grace Period* does not give information about fradulent behaviour since we don't know the future outcome."
    },
    {
      "metadata": {
        "trusted": true,
        "_uuid": "725236dfb5bc5d9b899eef83b2debc891f5f36df"
      },
      "cell_type": "code",
      "source": "# DF Transformed\ndata = data[~data.loan_status.isin([\"Issued\", \"In Grace Period\"])]",
      "execution_count": 7,
      "outputs": []
    },
    {
      "metadata": {
        "trusted": true,
        "_uuid": "7c99989eb420d52a6288c76893e0b08c45533c4c"
      },
      "cell_type": "code",
      "source": "data.loan_status.value_counts()",
      "execution_count": 8,
      "outputs": [
        {
          "output_type": "execute_result",
          "execution_count": 8,
          "data": {
            "text/plain": "Current                                                601779\nFully Paid                                             207723\nCharged Off                                             45248\nLate (31-120 days)                                      11591\nLate (16-30 days)                                        2357\nDoes not meet the credit policy. Status:Fully Paid       1988\nDefault                                                  1219\nDoes not meet the credit policy. Status:Charged Off       761\nName: loan_status, dtype: int64"
          },
          "metadata": {}
        }
      ]
    },
    {
      "metadata": {
        "trusted": true,
        "_uuid": "a407308dd678f98242df09bc415d22e15a63af65"
      },
      "cell_type": "code",
      "source": "data.shape",
      "execution_count": 9,
      "outputs": [
        {
          "output_type": "execute_result",
          "execution_count": 9,
          "data": {
            "text/plain": "(872666, 74)"
          },
          "metadata": {}
        }
      ]
    },
    {
      "metadata": {
        "trusted": true,
        "_uuid": "922d21a945880f51a4faa2f15b33e325909f7dc4"
      },
      "cell_type": "code",
      "source": "bad_status = [\"Charged Off\", \"Default\", \"Late (31-120 days)\", \"Late (16-30 days)\", \"Does not meet the credit policy. Status:Charged Off\"]\ngood_status = [\"Fully Paid\", \"Current\", \"Does not meet the credit policy. Status:Fully Paid\"]",
      "execution_count": 10,
      "outputs": []
    },
    {
      "metadata": {
        "trusted": true,
        "_uuid": "16d16e6c84ea37d4c565a5a18b4fec3c2cba954b"
      },
      "cell_type": "code",
      "source": "data[\"defaulter\"] = data.loan_status.apply(lambda x: 1 if x in good_status else -1)\ndata.head()",
      "execution_count": 11,
      "outputs": [
        {
          "output_type": "execute_result",
          "execution_count": 11,
          "data": {
            "text/plain": "        id  member_id    ...      inq_last_12m  defaulter\n0  1077501    1296599    ...               NaN          1\n1  1077430    1314167    ...               NaN         -1\n2  1077175    1313524    ...               NaN          1\n3  1076863    1277178    ...               NaN          1\n4  1075358    1311748    ...               NaN          1\n\n[5 rows x 75 columns]",
            "text/html": "<div>\n<style scoped>\n    .dataframe tbody tr th:only-of-type {\n        vertical-align: middle;\n    }\n\n    .dataframe tbody tr th {\n        vertical-align: top;\n    }\n\n    .dataframe thead th {\n        text-align: right;\n    }\n</style>\n<table border=\"1\" class=\"dataframe\">\n  <thead>\n    <tr style=\"text-align: right;\">\n      <th></th>\n      <th>id</th>\n      <th>member_id</th>\n      <th>loan_amnt</th>\n      <th>funded_amnt</th>\n      <th>funded_amnt_inv</th>\n      <th>term</th>\n      <th>int_rate</th>\n      <th>installment</th>\n      <th>grade</th>\n      <th>sub_grade</th>\n      <th>emp_title</th>\n      <th>emp_length</th>\n      <th>home_ownership</th>\n      <th>annual_inc</th>\n      <th>verification_status</th>\n      <th>issue_d</th>\n      <th>loan_status</th>\n      <th>pymnt_plan</th>\n      <th>url</th>\n      <th>desc</th>\n      <th>purpose</th>\n      <th>title</th>\n      <th>zip_code</th>\n      <th>addr_state</th>\n      <th>dti</th>\n      <th>delinq_2yrs</th>\n      <th>earliest_cr_line</th>\n      <th>inq_last_6mths</th>\n      <th>mths_since_last_delinq</th>\n      <th>mths_since_last_record</th>\n      <th>open_acc</th>\n      <th>pub_rec</th>\n      <th>revol_bal</th>\n      <th>revol_util</th>\n      <th>total_acc</th>\n      <th>initial_list_status</th>\n      <th>out_prncp</th>\n      <th>out_prncp_inv</th>\n      <th>total_pymnt</th>\n      <th>total_pymnt_inv</th>\n      <th>total_rec_prncp</th>\n      <th>total_rec_int</th>\n      <th>total_rec_late_fee</th>\n      <th>recoveries</th>\n      <th>collection_recovery_fee</th>\n      <th>last_pymnt_d</th>\n      <th>last_pymnt_amnt</th>\n      <th>next_pymnt_d</th>\n      <th>last_credit_pull_d</th>\n      <th>collections_12_mths_ex_med</th>\n      <th>mths_since_last_major_derog</th>\n      <th>policy_code</th>\n      <th>application_type</th>\n      <th>annual_inc_joint</th>\n      <th>dti_joint</th>\n      <th>verification_status_joint</th>\n      <th>acc_now_delinq</th>\n      <th>tot_coll_amt</th>\n      <th>tot_cur_bal</th>\n      <th>open_acc_6m</th>\n      <th>open_il_6m</th>\n      <th>open_il_12m</th>\n      <th>open_il_24m</th>\n      <th>mths_since_rcnt_il</th>\n      <th>total_bal_il</th>\n      <th>il_util</th>\n      <th>open_rv_12m</th>\n      <th>open_rv_24m</th>\n      <th>max_bal_bc</th>\n      <th>all_util</th>\n      <th>total_rev_hi_lim</th>\n      <th>inq_fi</th>\n      <th>total_cu_tl</th>\n      <th>inq_last_12m</th>\n      <th>defaulter</th>\n    </tr>\n  </thead>\n  <tbody>\n    <tr>\n      <th>0</th>\n      <td>1077501</td>\n      <td>1296599</td>\n      <td>5000.0</td>\n      <td>5000.0</td>\n      <td>4975.0</td>\n      <td>36 months</td>\n      <td>10.65</td>\n      <td>162.87</td>\n      <td>B</td>\n      <td>B2</td>\n      <td>NaN</td>\n      <td>10+ years</td>\n      <td>RENT</td>\n      <td>24000.0</td>\n      <td>Verified</td>\n      <td>Dec-2011</td>\n      <td>Fully Paid</td>\n      <td>n</td>\n      <td>https://www.lendingclub.com/browse/loanDetail....</td>\n      <td>Borrower added on 12/22/11 &gt; I need to upgra...</td>\n      <td>credit_card</td>\n      <td>Computer</td>\n      <td>860xx</td>\n      <td>AZ</td>\n      <td>27.65</td>\n      <td>0.0</td>\n      <td>Jan-1985</td>\n      <td>1.0</td>\n      <td>NaN</td>\n      <td>NaN</td>\n      <td>3.0</td>\n      <td>0.0</td>\n      <td>13648.0</td>\n      <td>83.7</td>\n      <td>9.0</td>\n      <td>f</td>\n      <td>0.0</td>\n      <td>0.0</td>\n      <td>5861.071414</td>\n      <td>5831.78</td>\n      <td>5000.00</td>\n      <td>861.07</td>\n      <td>0.00</td>\n      <td>0.00</td>\n      <td>0.00</td>\n      <td>Jan-2015</td>\n      <td>171.62</td>\n      <td>NaN</td>\n      <td>Jan-2016</td>\n      <td>0.0</td>\n      <td>NaN</td>\n      <td>1.0</td>\n      <td>INDIVIDUAL</td>\n      <td>NaN</td>\n      <td>NaN</td>\n      <td>NaN</td>\n      <td>0.0</td>\n      <td>NaN</td>\n      <td>NaN</td>\n      <td>NaN</td>\n      <td>NaN</td>\n      <td>NaN</td>\n      <td>NaN</td>\n      <td>NaN</td>\n      <td>NaN</td>\n      <td>NaN</td>\n      <td>NaN</td>\n      <td>NaN</td>\n      <td>NaN</td>\n      <td>NaN</td>\n      <td>NaN</td>\n      <td>NaN</td>\n      <td>NaN</td>\n      <td>NaN</td>\n      <td>1</td>\n    </tr>\n    <tr>\n      <th>1</th>\n      <td>1077430</td>\n      <td>1314167</td>\n      <td>2500.0</td>\n      <td>2500.0</td>\n      <td>2500.0</td>\n      <td>60 months</td>\n      <td>15.27</td>\n      <td>59.83</td>\n      <td>C</td>\n      <td>C4</td>\n      <td>Ryder</td>\n      <td>&lt; 1 year</td>\n      <td>RENT</td>\n      <td>30000.0</td>\n      <td>Source Verified</td>\n      <td>Dec-2011</td>\n      <td>Charged Off</td>\n      <td>n</td>\n      <td>https://www.lendingclub.com/browse/loanDetail....</td>\n      <td>Borrower added on 12/22/11 &gt; I plan to use t...</td>\n      <td>car</td>\n      <td>bike</td>\n      <td>309xx</td>\n      <td>GA</td>\n      <td>1.00</td>\n      <td>0.0</td>\n      <td>Apr-1999</td>\n      <td>5.0</td>\n      <td>NaN</td>\n      <td>NaN</td>\n      <td>3.0</td>\n      <td>0.0</td>\n      <td>1687.0</td>\n      <td>9.4</td>\n      <td>4.0</td>\n      <td>f</td>\n      <td>0.0</td>\n      <td>0.0</td>\n      <td>1008.710000</td>\n      <td>1008.71</td>\n      <td>456.46</td>\n      <td>435.17</td>\n      <td>0.00</td>\n      <td>117.08</td>\n      <td>1.11</td>\n      <td>Apr-2013</td>\n      <td>119.66</td>\n      <td>NaN</td>\n      <td>Sep-2013</td>\n      <td>0.0</td>\n      <td>NaN</td>\n      <td>1.0</td>\n      <td>INDIVIDUAL</td>\n      <td>NaN</td>\n      <td>NaN</td>\n      <td>NaN</td>\n      <td>0.0</td>\n      <td>NaN</td>\n      <td>NaN</td>\n      <td>NaN</td>\n      <td>NaN</td>\n      <td>NaN</td>\n      <td>NaN</td>\n      <td>NaN</td>\n      <td>NaN</td>\n      <td>NaN</td>\n      <td>NaN</td>\n      <td>NaN</td>\n      <td>NaN</td>\n      <td>NaN</td>\n      <td>NaN</td>\n      <td>NaN</td>\n      <td>NaN</td>\n      <td>NaN</td>\n      <td>-1</td>\n    </tr>\n    <tr>\n      <th>2</th>\n      <td>1077175</td>\n      <td>1313524</td>\n      <td>2400.0</td>\n      <td>2400.0</td>\n      <td>2400.0</td>\n      <td>36 months</td>\n      <td>15.96</td>\n      <td>84.33</td>\n      <td>C</td>\n      <td>C5</td>\n      <td>NaN</td>\n      <td>10+ years</td>\n      <td>RENT</td>\n      <td>12252.0</td>\n      <td>Not Verified</td>\n      <td>Dec-2011</td>\n      <td>Fully Paid</td>\n      <td>n</td>\n      <td>https://www.lendingclub.com/browse/loanDetail....</td>\n      <td>NaN</td>\n      <td>small_business</td>\n      <td>real estate business</td>\n      <td>606xx</td>\n      <td>IL</td>\n      <td>8.72</td>\n      <td>0.0</td>\n      <td>Nov-2001</td>\n      <td>2.0</td>\n      <td>NaN</td>\n      <td>NaN</td>\n      <td>2.0</td>\n      <td>0.0</td>\n      <td>2956.0</td>\n      <td>98.5</td>\n      <td>10.0</td>\n      <td>f</td>\n      <td>0.0</td>\n      <td>0.0</td>\n      <td>3003.653644</td>\n      <td>3003.65</td>\n      <td>2400.00</td>\n      <td>603.65</td>\n      <td>0.00</td>\n      <td>0.00</td>\n      <td>0.00</td>\n      <td>Jun-2014</td>\n      <td>649.91</td>\n      <td>NaN</td>\n      <td>Jan-2016</td>\n      <td>0.0</td>\n      <td>NaN</td>\n      <td>1.0</td>\n      <td>INDIVIDUAL</td>\n      <td>NaN</td>\n      <td>NaN</td>\n      <td>NaN</td>\n      <td>0.0</td>\n      <td>NaN</td>\n      <td>NaN</td>\n      <td>NaN</td>\n      <td>NaN</td>\n      <td>NaN</td>\n      <td>NaN</td>\n      <td>NaN</td>\n      <td>NaN</td>\n      <td>NaN</td>\n      <td>NaN</td>\n      <td>NaN</td>\n      <td>NaN</td>\n      <td>NaN</td>\n      <td>NaN</td>\n      <td>NaN</td>\n      <td>NaN</td>\n      <td>NaN</td>\n      <td>1</td>\n    </tr>\n    <tr>\n      <th>3</th>\n      <td>1076863</td>\n      <td>1277178</td>\n      <td>10000.0</td>\n      <td>10000.0</td>\n      <td>10000.0</td>\n      <td>36 months</td>\n      <td>13.49</td>\n      <td>339.31</td>\n      <td>C</td>\n      <td>C1</td>\n      <td>AIR RESOURCES BOARD</td>\n      <td>10+ years</td>\n      <td>RENT</td>\n      <td>49200.0</td>\n      <td>Source Verified</td>\n      <td>Dec-2011</td>\n      <td>Fully Paid</td>\n      <td>n</td>\n      <td>https://www.lendingclub.com/browse/loanDetail....</td>\n      <td>Borrower added on 12/21/11 &gt; to pay for prop...</td>\n      <td>other</td>\n      <td>personel</td>\n      <td>917xx</td>\n      <td>CA</td>\n      <td>20.00</td>\n      <td>0.0</td>\n      <td>Feb-1996</td>\n      <td>1.0</td>\n      <td>35.0</td>\n      <td>NaN</td>\n      <td>10.0</td>\n      <td>0.0</td>\n      <td>5598.0</td>\n      <td>21.0</td>\n      <td>37.0</td>\n      <td>f</td>\n      <td>0.0</td>\n      <td>0.0</td>\n      <td>12226.302212</td>\n      <td>12226.30</td>\n      <td>10000.00</td>\n      <td>2209.33</td>\n      <td>16.97</td>\n      <td>0.00</td>\n      <td>0.00</td>\n      <td>Jan-2015</td>\n      <td>357.48</td>\n      <td>NaN</td>\n      <td>Jan-2015</td>\n      <td>0.0</td>\n      <td>NaN</td>\n      <td>1.0</td>\n      <td>INDIVIDUAL</td>\n      <td>NaN</td>\n      <td>NaN</td>\n      <td>NaN</td>\n      <td>0.0</td>\n      <td>NaN</td>\n      <td>NaN</td>\n      <td>NaN</td>\n      <td>NaN</td>\n      <td>NaN</td>\n      <td>NaN</td>\n      <td>NaN</td>\n      <td>NaN</td>\n      <td>NaN</td>\n      <td>NaN</td>\n      <td>NaN</td>\n      <td>NaN</td>\n      <td>NaN</td>\n      <td>NaN</td>\n      <td>NaN</td>\n      <td>NaN</td>\n      <td>NaN</td>\n      <td>1</td>\n    </tr>\n    <tr>\n      <th>4</th>\n      <td>1075358</td>\n      <td>1311748</td>\n      <td>3000.0</td>\n      <td>3000.0</td>\n      <td>3000.0</td>\n      <td>60 months</td>\n      <td>12.69</td>\n      <td>67.79</td>\n      <td>B</td>\n      <td>B5</td>\n      <td>University Medical Group</td>\n      <td>1 year</td>\n      <td>RENT</td>\n      <td>80000.0</td>\n      <td>Source Verified</td>\n      <td>Dec-2011</td>\n      <td>Current</td>\n      <td>n</td>\n      <td>https://www.lendingclub.com/browse/loanDetail....</td>\n      <td>Borrower added on 12/21/11 &gt; I plan on combi...</td>\n      <td>other</td>\n      <td>Personal</td>\n      <td>972xx</td>\n      <td>OR</td>\n      <td>17.94</td>\n      <td>0.0</td>\n      <td>Jan-1996</td>\n      <td>0.0</td>\n      <td>38.0</td>\n      <td>NaN</td>\n      <td>15.0</td>\n      <td>0.0</td>\n      <td>27783.0</td>\n      <td>53.9</td>\n      <td>38.0</td>\n      <td>f</td>\n      <td>766.9</td>\n      <td>766.9</td>\n      <td>3242.170000</td>\n      <td>3242.17</td>\n      <td>2233.10</td>\n      <td>1009.07</td>\n      <td>0.00</td>\n      <td>0.00</td>\n      <td>0.00</td>\n      <td>Jan-2016</td>\n      <td>67.79</td>\n      <td>Feb-2016</td>\n      <td>Jan-2016</td>\n      <td>0.0</td>\n      <td>NaN</td>\n      <td>1.0</td>\n      <td>INDIVIDUAL</td>\n      <td>NaN</td>\n      <td>NaN</td>\n      <td>NaN</td>\n      <td>0.0</td>\n      <td>NaN</td>\n      <td>NaN</td>\n      <td>NaN</td>\n      <td>NaN</td>\n      <td>NaN</td>\n      <td>NaN</td>\n      <td>NaN</td>\n      <td>NaN</td>\n      <td>NaN</td>\n      <td>NaN</td>\n      <td>NaN</td>\n      <td>NaN</td>\n      <td>NaN</td>\n      <td>NaN</td>\n      <td>NaN</td>\n      <td>NaN</td>\n      <td>NaN</td>\n      <td>1</td>\n    </tr>\n  </tbody>\n</table>\n</div>"
          },
          "metadata": {}
        }
      ]
    },
    {
      "metadata": {
        "trusted": true,
        "_uuid": "e754fe0f056ca0706ecc72284a2f35bc5e05c942"
      },
      "cell_type": "code",
      "source": "data.defaulter.value_counts()",
      "execution_count": 12,
      "outputs": [
        {
          "output_type": "execute_result",
          "execution_count": 12,
          "data": {
            "text/plain": " 1    811490\n-1     61176\nName: defaulter, dtype: int64"
          },
          "metadata": {}
        }
      ]
    },
    {
      "metadata": {
        "_uuid": "1712207daa4135671e7f2169a26c49f5ea4d4ae6"
      },
      "cell_type": "markdown",
      "source": "We have thus converted loan_status into a label called *defaulter* which we wish to predict. We have dropped *Issued* and *In Grace Period* for the reasons mentioned above."
    },
    {
      "metadata": {
        "_uuid": "0a6f5552d149290946283a946397bc6e3de87522"
      },
      "cell_type": "markdown",
      "source": "# Filtering columns"
    },
    {
      "metadata": {
        "_uuid": "5d8f91a53336bdca33aefbab7e156616c81ba9db"
      },
      "cell_type": "markdown",
      "source": "The dataset contains a large number of columns, not all of which might be relevant. We try and remove certain columns that we feel does not contribute in any way to the predictions. The column descriptions are given in the data dictionary."
    },
    {
      "metadata": {
        "trusted": true,
        "_uuid": "8c0bc47a7c08d4421597d8f7fb334066e3423ff3"
      },
      "cell_type": "code",
      "source": "data.annual_inc.isna().sum()",
      "execution_count": 13,
      "outputs": [
        {
          "output_type": "execute_result",
          "execution_count": 13,
          "data": {
            "text/plain": "4"
          },
          "metadata": {}
        }
      ]
    },
    {
      "metadata": {
        "trusted": true,
        "_uuid": "55e8e4c3987132c5aeb8528e5bea627cce0a0828"
      },
      "cell_type": "code",
      "source": "data[data.annual_inc.isna()][[\"annual_inc\", \"annual_inc_joint\", \"defaulter\"]]",
      "execution_count": 14,
      "outputs": [
        {
          "output_type": "execute_result",
          "execution_count": 14,
          "data": {
            "text/plain": "       annual_inc  annual_inc_joint  defaulter\n42449         NaN               NaN          1\n42450         NaN               NaN          1\n42480         NaN               NaN          1\n42533         NaN               NaN          1",
            "text/html": "<div>\n<style scoped>\n    .dataframe tbody tr th:only-of-type {\n        vertical-align: middle;\n    }\n\n    .dataframe tbody tr th {\n        vertical-align: top;\n    }\n\n    .dataframe thead th {\n        text-align: right;\n    }\n</style>\n<table border=\"1\" class=\"dataframe\">\n  <thead>\n    <tr style=\"text-align: right;\">\n      <th></th>\n      <th>annual_inc</th>\n      <th>annual_inc_joint</th>\n      <th>defaulter</th>\n    </tr>\n  </thead>\n  <tbody>\n    <tr>\n      <th>42449</th>\n      <td>NaN</td>\n      <td>NaN</td>\n      <td>1</td>\n    </tr>\n    <tr>\n      <th>42450</th>\n      <td>NaN</td>\n      <td>NaN</td>\n      <td>1</td>\n    </tr>\n    <tr>\n      <th>42480</th>\n      <td>NaN</td>\n      <td>NaN</td>\n      <td>1</td>\n    </tr>\n    <tr>\n      <th>42533</th>\n      <td>NaN</td>\n      <td>NaN</td>\n      <td>1</td>\n    </tr>\n  </tbody>\n</table>\n</div>"
          },
          "metadata": {}
        }
      ]
    },
    {
      "metadata": {
        "trusted": true,
        "_uuid": "ecf3ae2e09d3326975681ce5eb40e459a1c14a91"
      },
      "cell_type": "code",
      "source": "# DF Transformed\ntemp = data.shape[0]\ndata = data[data.annual_inc.notnull()]\nprint(\"Dropped:\", temp - data.shape[0])",
      "execution_count": 15,
      "outputs": [
        {
          "output_type": "stream",
          "text": "Dropped: 4\n",
          "name": "stdout"
        }
      ]
    },
    {
      "metadata": {
        "trusted": true,
        "_uuid": "0c7150096785d4ac1c90a208f24e00c9795e56a4"
      },
      "cell_type": "code",
      "source": "num_inc_joint_na = data.annual_inc_joint.isna().sum()\nnum_inc_joint_na",
      "execution_count": 16,
      "outputs": [
        {
          "output_type": "execute_result",
          "execution_count": 16,
          "data": {
            "text/plain": "872218"
          },
          "metadata": {}
        }
      ]
    },
    {
      "metadata": {
        "trusted": true,
        "_uuid": "628c627475fd6af7fa39211e9beae58b37ce07e7"
      },
      "cell_type": "code",
      "source": "inc_df = data[data.annual_inc_joint.notnull()][[\"annual_inc\", \"annual_inc_joint\", \"defaulter\"]]\ninc_df[\"joint_diff\"] =  inc_df.annual_inc_joint - inc_df.annual_inc\ninc_df.head(10)",
      "execution_count": 17,
      "outputs": [
        {
          "output_type": "execute_result",
          "execution_count": 17,
          "data": {
            "text/plain": "        annual_inc  annual_inc_joint  defaulter  joint_diff\n466914    29524.32          94348.32          1     64824.0\n470869    86000.00         182000.00          1     96000.0\n473690    89000.00          89000.00          1         0.0\n474052    60000.00          95000.00          1     35000.0\n474137    78000.00         111000.00          1     33000.0\n474156    80000.00         118000.00          1     38000.0\n474228    49000.00          49000.00          1         0.0\n474428    45000.00          70000.00          1     25000.0\n474531    70000.00         150000.00          1     80000.0\n474776    37000.00         132000.00          1     95000.0",
            "text/html": "<div>\n<style scoped>\n    .dataframe tbody tr th:only-of-type {\n        vertical-align: middle;\n    }\n\n    .dataframe tbody tr th {\n        vertical-align: top;\n    }\n\n    .dataframe thead th {\n        text-align: right;\n    }\n</style>\n<table border=\"1\" class=\"dataframe\">\n  <thead>\n    <tr style=\"text-align: right;\">\n      <th></th>\n      <th>annual_inc</th>\n      <th>annual_inc_joint</th>\n      <th>defaulter</th>\n      <th>joint_diff</th>\n    </tr>\n  </thead>\n  <tbody>\n    <tr>\n      <th>466914</th>\n      <td>29524.32</td>\n      <td>94348.32</td>\n      <td>1</td>\n      <td>64824.0</td>\n    </tr>\n    <tr>\n      <th>470869</th>\n      <td>86000.00</td>\n      <td>182000.00</td>\n      <td>1</td>\n      <td>96000.0</td>\n    </tr>\n    <tr>\n      <th>473690</th>\n      <td>89000.00</td>\n      <td>89000.00</td>\n      <td>1</td>\n      <td>0.0</td>\n    </tr>\n    <tr>\n      <th>474052</th>\n      <td>60000.00</td>\n      <td>95000.00</td>\n      <td>1</td>\n      <td>35000.0</td>\n    </tr>\n    <tr>\n      <th>474137</th>\n      <td>78000.00</td>\n      <td>111000.00</td>\n      <td>1</td>\n      <td>33000.0</td>\n    </tr>\n    <tr>\n      <th>474156</th>\n      <td>80000.00</td>\n      <td>118000.00</td>\n      <td>1</td>\n      <td>38000.0</td>\n    </tr>\n    <tr>\n      <th>474228</th>\n      <td>49000.00</td>\n      <td>49000.00</td>\n      <td>1</td>\n      <td>0.0</td>\n    </tr>\n    <tr>\n      <th>474428</th>\n      <td>45000.00</td>\n      <td>70000.00</td>\n      <td>1</td>\n      <td>25000.0</td>\n    </tr>\n    <tr>\n      <th>474531</th>\n      <td>70000.00</td>\n      <td>150000.00</td>\n      <td>1</td>\n      <td>80000.0</td>\n    </tr>\n    <tr>\n      <th>474776</th>\n      <td>37000.00</td>\n      <td>132000.00</td>\n      <td>1</td>\n      <td>95000.0</td>\n    </tr>\n  </tbody>\n</table>\n</div>"
          },
          "metadata": {}
        }
      ]
    },
    {
      "metadata": {
        "trusted": true,
        "_uuid": "4e6426b7cd0eb28efabc31319ec0f8fd3f9a54f3"
      },
      "cell_type": "code",
      "source": "inc_df.joint_diff.describe()",
      "execution_count": 18,
      "outputs": [
        {
          "output_type": "execute_result",
          "execution_count": 18,
          "data": {
            "text/plain": "count       444.000000\nmean      49884.410878\nstd       35336.296830\nmin           0.000000\n25%       25000.000000\n50%       43848.500000\n75%       65000.000000\nmax      265000.000000\nName: joint_diff, dtype: float64"
          },
          "metadata": {}
        }
      ]
    },
    {
      "metadata": {
        "trusted": true,
        "_uuid": "016194fcce9882d43f0f5ea801559a59c83a3c0e"
      },
      "cell_type": "code",
      "source": "data.shape[0] - num_inc_joint_na",
      "execution_count": 19,
      "outputs": [
        {
          "output_type": "execute_result",
          "execution_count": 19,
          "data": {
            "text/plain": "444"
          },
          "metadata": {}
        }
      ]
    },
    {
      "metadata": {
        "trusted": true,
        "_uuid": "3d5a468bf7bc8845ed9fccfd56ad4df0dfac9006"
      },
      "cell_type": "code",
      "source": "inc_df.groupby(\"defaulter\").joint_diff.count()",
      "execution_count": 20,
      "outputs": [
        {
          "output_type": "execute_result",
          "execution_count": 20,
          "data": {
            "text/plain": "defaulter\n-1      2\n 1    442\nName: joint_diff, dtype: int64"
          },
          "metadata": {}
        }
      ]
    },
    {
      "metadata": {
        "_uuid": "ec00d42d8c1b5b8b3d42ef8a2c4ebdfbe140e6df"
      },
      "cell_type": "markdown",
      "source": "Therefore *annual_inc_joint* is available only for 511 rows. Every row that contains *annual_inc_joint*  also contains *annual_inc* and the values differ significantly. Moreover only 2 cases are defaulters. It makes sense to drop the column due to its occurence and contribution to our predictions."
    },
    {
      "metadata": {
        "trusted": true,
        "_uuid": "b72c5d9bfb534c71a35b829003e860de6a5fb131"
      },
      "cell_type": "code",
      "source": "data.count().sort_values()",
      "execution_count": 21,
      "outputs": [
        {
          "output_type": "execute_result",
          "execution_count": 21,
          "data": {
            "text/plain": "dti_joint                         442\nannual_inc_joint                  444\nverification_status_joint         444\nil_util                         11609\nmths_since_rcnt_il              12934\ninq_last_12m                    13288\nopen_il_24m                     13288\ntotal_bal_il                    13288\nopen_il_12m                     13288\nopen_rv_12m                     13288\nopen_rv_24m                     13288\nmax_bal_bc                      13288\nall_util                        13288\ninq_fi                          13288\ntotal_cu_tl                     13288\nopen_il_6m                      13288\nopen_acc_6m                     13288\ndesc                           125511\nmths_since_last_record         134447\nmths_since_last_major_derog    217244\nmths_since_last_delinq         425111\nnext_pymnt_d                   619691\ntot_coll_amt                   802456\ntotal_rev_hi_lim               802456\ntot_cur_bal                    802456\nemp_title                      822113\nemp_length                     828706\nlast_pymnt_d                   863627\nrevol_util                     872169\ncollections_12_mths_ex_med     872521\n                                ...  \ntotal_rec_late_fee             872662\nmember_id                      872662\nloan_amnt                      872662\nfunded_amnt                    872662\nfunded_amnt_inv                872662\nterm                           872662\nint_rate                       872662\ninstallment                    872662\ngrade                          872662\nsub_grade                      872662\nhome_ownership                 872662\nannual_inc                     872662\nverification_status            872662\nissue_d                        872662\nloan_status                    872662\npymnt_plan                     872662\nurl                            872662\npurpose                        872662\nzip_code                       872662\naddr_state                     872662\ndti                            872662\nrevol_bal                      872662\ninitial_list_status            872662\nout_prncp                      872662\ntotal_pymnt                    872662\ntotal_pymnt_inv                872662\ntotal_rec_prncp                872662\ntotal_rec_int                  872662\nrecoveries                     872662\ndefaulter                      872662\nLength: 75, dtype: int64"
          },
          "metadata": {}
        }
      ]
    },
    {
      "metadata": {
        "trusted": true,
        "_uuid": "d79b832623ce96d13ae05477856cd016940a0008"
      },
      "cell_type": "code",
      "source": "# DF Transformed\nmin_size = data.shape[0]*0.9\nprint(data.shape)\ndata = data.dropna(thresh=min_size, axis=1)\nprint(data.shape)",
      "execution_count": 22,
      "outputs": [
        {
          "output_type": "stream",
          "text": "(872662, 75)\n(872662, 53)\n",
          "name": "stdout"
        }
      ]
    },
    {
      "metadata": {
        "_uuid": "51d45e934e70ac8e20caacbcd8e3869055f1c4b1"
      },
      "cell_type": "markdown",
      "source": "Removed columns with more than 10% null values."
    },
    {
      "metadata": {
        "trusted": true,
        "_uuid": "b8ccce0dc99ad01b9c2e1c55cc059147ee2597d8"
      },
      "cell_type": "code",
      "source": "data.columns.sort_values()",
      "execution_count": 23,
      "outputs": [
        {
          "output_type": "execute_result",
          "execution_count": 23,
          "data": {
            "text/plain": "Index(['acc_now_delinq', 'addr_state', 'annual_inc', 'application_type',\n       'collection_recovery_fee', 'collections_12_mths_ex_med', 'defaulter',\n       'delinq_2yrs', 'dti', 'earliest_cr_line', 'emp_length', 'emp_title',\n       'funded_amnt', 'funded_amnt_inv', 'grade', 'home_ownership', 'id',\n       'initial_list_status', 'inq_last_6mths', 'installment', 'int_rate',\n       'issue_d', 'last_credit_pull_d', 'last_pymnt_amnt', 'last_pymnt_d',\n       'loan_amnt', 'loan_status', 'member_id', 'open_acc', 'out_prncp',\n       'out_prncp_inv', 'policy_code', 'pub_rec', 'purpose', 'pymnt_plan',\n       'recoveries', 'revol_bal', 'revol_util', 'sub_grade', 'term', 'title',\n       'tot_coll_amt', 'tot_cur_bal', 'total_acc', 'total_pymnt',\n       'total_pymnt_inv', 'total_rec_int', 'total_rec_late_fee',\n       'total_rec_prncp', 'total_rev_hi_lim', 'url', 'verification_status',\n       'zip_code'],\n      dtype='object')"
          },
          "metadata": {}
        }
      ]
    },
    {
      "metadata": {
        "trusted": true,
        "_uuid": "8a92553353e116caac87239e26ec5016e8e64776"
      },
      "cell_type": "code",
      "source": "lst_to_be_removed = ['collection_recovery_fee', 'earliest_cr_line', 'funded_amnt_inv', 'inq_last_6mths', 'issue_d', 'last_credit_pull_d', 'last_pymnt_amnt', 'last_pymnt_d', 'member_id', 'out_prncp_inv', 'recoveries', 'title', 'total_pymnt', 'total_pymnt_inv', 'total_rec_int', 'total_rec_late_fee', 'total_rec_prncp', 'url']",
      "execution_count": 24,
      "outputs": []
    },
    {
      "metadata": {
        "trusted": true,
        "_uuid": "be74ee13ec8713dd4efaaa4cc7e9da2fb5ac0eed"
      },
      "cell_type": "code",
      "source": "# DF Transformed\ndata.drop(lst_to_be_removed, axis=1, inplace=True)",
      "execution_count": 25,
      "outputs": []
    },
    {
      "metadata": {
        "trusted": true,
        "_uuid": "9df15a6d29a407ab082e54730004dd3aecfb03be"
      },
      "cell_type": "code",
      "source": "data.head()",
      "execution_count": 26,
      "outputs": [
        {
          "output_type": "execute_result",
          "execution_count": 26,
          "data": {
            "text/plain": "        id  loan_amnt    ...     total_rev_hi_lim defaulter\n0  1077501     5000.0    ...                  NaN         1\n1  1077430     2500.0    ...                  NaN        -1\n2  1077175     2400.0    ...                  NaN         1\n3  1076863    10000.0    ...                  NaN         1\n4  1075358     3000.0    ...                  NaN         1\n\n[5 rows x 35 columns]",
            "text/html": "<div>\n<style scoped>\n    .dataframe tbody tr th:only-of-type {\n        vertical-align: middle;\n    }\n\n    .dataframe tbody tr th {\n        vertical-align: top;\n    }\n\n    .dataframe thead th {\n        text-align: right;\n    }\n</style>\n<table border=\"1\" class=\"dataframe\">\n  <thead>\n    <tr style=\"text-align: right;\">\n      <th></th>\n      <th>id</th>\n      <th>loan_amnt</th>\n      <th>funded_amnt</th>\n      <th>term</th>\n      <th>int_rate</th>\n      <th>installment</th>\n      <th>grade</th>\n      <th>sub_grade</th>\n      <th>emp_title</th>\n      <th>emp_length</th>\n      <th>home_ownership</th>\n      <th>annual_inc</th>\n      <th>verification_status</th>\n      <th>loan_status</th>\n      <th>pymnt_plan</th>\n      <th>purpose</th>\n      <th>zip_code</th>\n      <th>addr_state</th>\n      <th>dti</th>\n      <th>delinq_2yrs</th>\n      <th>open_acc</th>\n      <th>pub_rec</th>\n      <th>revol_bal</th>\n      <th>revol_util</th>\n      <th>total_acc</th>\n      <th>initial_list_status</th>\n      <th>out_prncp</th>\n      <th>collections_12_mths_ex_med</th>\n      <th>policy_code</th>\n      <th>application_type</th>\n      <th>acc_now_delinq</th>\n      <th>tot_coll_amt</th>\n      <th>tot_cur_bal</th>\n      <th>total_rev_hi_lim</th>\n      <th>defaulter</th>\n    </tr>\n  </thead>\n  <tbody>\n    <tr>\n      <th>0</th>\n      <td>1077501</td>\n      <td>5000.0</td>\n      <td>5000.0</td>\n      <td>36 months</td>\n      <td>10.65</td>\n      <td>162.87</td>\n      <td>B</td>\n      <td>B2</td>\n      <td>NaN</td>\n      <td>10+ years</td>\n      <td>RENT</td>\n      <td>24000.0</td>\n      <td>Verified</td>\n      <td>Fully Paid</td>\n      <td>n</td>\n      <td>credit_card</td>\n      <td>860xx</td>\n      <td>AZ</td>\n      <td>27.65</td>\n      <td>0.0</td>\n      <td>3.0</td>\n      <td>0.0</td>\n      <td>13648.0</td>\n      <td>83.7</td>\n      <td>9.0</td>\n      <td>f</td>\n      <td>0.0</td>\n      <td>0.0</td>\n      <td>1.0</td>\n      <td>INDIVIDUAL</td>\n      <td>0.0</td>\n      <td>NaN</td>\n      <td>NaN</td>\n      <td>NaN</td>\n      <td>1</td>\n    </tr>\n    <tr>\n      <th>1</th>\n      <td>1077430</td>\n      <td>2500.0</td>\n      <td>2500.0</td>\n      <td>60 months</td>\n      <td>15.27</td>\n      <td>59.83</td>\n      <td>C</td>\n      <td>C4</td>\n      <td>Ryder</td>\n      <td>&lt; 1 year</td>\n      <td>RENT</td>\n      <td>30000.0</td>\n      <td>Source Verified</td>\n      <td>Charged Off</td>\n      <td>n</td>\n      <td>car</td>\n      <td>309xx</td>\n      <td>GA</td>\n      <td>1.00</td>\n      <td>0.0</td>\n      <td>3.0</td>\n      <td>0.0</td>\n      <td>1687.0</td>\n      <td>9.4</td>\n      <td>4.0</td>\n      <td>f</td>\n      <td>0.0</td>\n      <td>0.0</td>\n      <td>1.0</td>\n      <td>INDIVIDUAL</td>\n      <td>0.0</td>\n      <td>NaN</td>\n      <td>NaN</td>\n      <td>NaN</td>\n      <td>-1</td>\n    </tr>\n    <tr>\n      <th>2</th>\n      <td>1077175</td>\n      <td>2400.0</td>\n      <td>2400.0</td>\n      <td>36 months</td>\n      <td>15.96</td>\n      <td>84.33</td>\n      <td>C</td>\n      <td>C5</td>\n      <td>NaN</td>\n      <td>10+ years</td>\n      <td>RENT</td>\n      <td>12252.0</td>\n      <td>Not Verified</td>\n      <td>Fully Paid</td>\n      <td>n</td>\n      <td>small_business</td>\n      <td>606xx</td>\n      <td>IL</td>\n      <td>8.72</td>\n      <td>0.0</td>\n      <td>2.0</td>\n      <td>0.0</td>\n      <td>2956.0</td>\n      <td>98.5</td>\n      <td>10.0</td>\n      <td>f</td>\n      <td>0.0</td>\n      <td>0.0</td>\n      <td>1.0</td>\n      <td>INDIVIDUAL</td>\n      <td>0.0</td>\n      <td>NaN</td>\n      <td>NaN</td>\n      <td>NaN</td>\n      <td>1</td>\n    </tr>\n    <tr>\n      <th>3</th>\n      <td>1076863</td>\n      <td>10000.0</td>\n      <td>10000.0</td>\n      <td>36 months</td>\n      <td>13.49</td>\n      <td>339.31</td>\n      <td>C</td>\n      <td>C1</td>\n      <td>AIR RESOURCES BOARD</td>\n      <td>10+ years</td>\n      <td>RENT</td>\n      <td>49200.0</td>\n      <td>Source Verified</td>\n      <td>Fully Paid</td>\n      <td>n</td>\n      <td>other</td>\n      <td>917xx</td>\n      <td>CA</td>\n      <td>20.00</td>\n      <td>0.0</td>\n      <td>10.0</td>\n      <td>0.0</td>\n      <td>5598.0</td>\n      <td>21.0</td>\n      <td>37.0</td>\n      <td>f</td>\n      <td>0.0</td>\n      <td>0.0</td>\n      <td>1.0</td>\n      <td>INDIVIDUAL</td>\n      <td>0.0</td>\n      <td>NaN</td>\n      <td>NaN</td>\n      <td>NaN</td>\n      <td>1</td>\n    </tr>\n    <tr>\n      <th>4</th>\n      <td>1075358</td>\n      <td>3000.0</td>\n      <td>3000.0</td>\n      <td>60 months</td>\n      <td>12.69</td>\n      <td>67.79</td>\n      <td>B</td>\n      <td>B5</td>\n      <td>University Medical Group</td>\n      <td>1 year</td>\n      <td>RENT</td>\n      <td>80000.0</td>\n      <td>Source Verified</td>\n      <td>Current</td>\n      <td>n</td>\n      <td>other</td>\n      <td>972xx</td>\n      <td>OR</td>\n      <td>17.94</td>\n      <td>0.0</td>\n      <td>15.0</td>\n      <td>0.0</td>\n      <td>27783.0</td>\n      <td>53.9</td>\n      <td>38.0</td>\n      <td>f</td>\n      <td>766.9</td>\n      <td>0.0</td>\n      <td>1.0</td>\n      <td>INDIVIDUAL</td>\n      <td>0.0</td>\n      <td>NaN</td>\n      <td>NaN</td>\n      <td>NaN</td>\n      <td>1</td>\n    </tr>\n  </tbody>\n</table>\n</div>"
          },
          "metadata": {}
        }
      ]
    },
    {
      "metadata": {
        "trusted": true,
        "_uuid": "be712f82c7802ea5251e6ddfc90bfb26cdfe8213"
      },
      "cell_type": "code",
      "source": "data.shape",
      "execution_count": 27,
      "outputs": [
        {
          "output_type": "execute_result",
          "execution_count": 27,
          "data": {
            "text/plain": "(872662, 35)"
          },
          "metadata": {}
        }
      ]
    },
    {
      "metadata": {
        "_uuid": "87fcdb698825a6a3ec86147df32793c0ffacf192"
      },
      "cell_type": "markdown",
      "source": "After analysing from the data-dictionary we removed columns that we felt weren't related to the output. We also removed columns that won't be available at the time of loan application."
    },
    {
      "metadata": {
        "_uuid": "5f950b85457538227f8ad49efa7f670c54fd92e8"
      },
      "cell_type": "markdown",
      "source": "# Analysis of attributes"
    },
    {
      "metadata": {
        "trusted": true,
        "_uuid": "5682fd1d407aec19e019c36cb700e50c0434ec60"
      },
      "cell_type": "code",
      "source": "plt.figure(figsize=(8,4))\nsns.countplot(x='defaulter', data=data)\nplt.show()",
      "execution_count": 28,
      "outputs": [
        {
          "output_type": "display_data",
          "data": {
            "text/plain": "<Figure size 576x288 with 1 Axes>",
            "image/png": "[encoded data removed]"
          },
          "metadata": {}
        }
      ]
    },
    {
      "metadata": {
        "trusted": true,
        "_uuid": "f5df93433187ff60a3a67094b53ba56e4e8bc7f8"
      },
      "cell_type": "code",
      "source": "data.defaulter.value_counts()",
      "execution_count": 29,
      "outputs": [
        {
          "output_type": "execute_result",
          "execution_count": 29,
          "data": {
            "text/plain": " 1    811486\n-1     61176\nName: defaulter, dtype: int64"
          },
          "metadata": {}
        }
      ]
    },
    {
      "metadata": {
        "_uuid": "6abd86d2c30db16127a9c11ac5cef8ff9e835cb7"
      },
      "cell_type": "markdown",
      "source": "Extremely skewed dataset. Might create problems when building models."
    },
    {
      "metadata": {
        "trusted": true,
        "_uuid": "3a5d514373d7e21e02716b8c18738457c16fe2ac"
      },
      "cell_type": "code",
      "source": "data.columns.sort_values()",
      "execution_count": 30,
      "outputs": [
        {
          "output_type": "execute_result",
          "execution_count": 30,
          "data": {
            "text/plain": "Index(['acc_now_delinq', 'addr_state', 'annual_inc', 'application_type',\n       'collections_12_mths_ex_med', 'defaulter', 'delinq_2yrs', 'dti',\n       'emp_length', 'emp_title', 'funded_amnt', 'grade', 'home_ownership',\n       'id', 'initial_list_status', 'installment', 'int_rate', 'loan_amnt',\n       'loan_status', 'open_acc', 'out_prncp', 'policy_code', 'pub_rec',\n       'purpose', 'pymnt_plan', 'revol_bal', 'revol_util', 'sub_grade', 'term',\n       'tot_coll_amt', 'tot_cur_bal', 'total_acc', 'total_rev_hi_lim',\n       'verification_status', 'zip_code'],\n      dtype='object')"
          },
          "metadata": {}
        }
      ]
    },
    {
      "metadata": {
        "trusted": true,
        "_uuid": "9261be2f8aca80a70ad39f856dde81cc43a73e66"
      },
      "cell_type": "code",
      "source": "to_remove = []",
      "execution_count": 31,
      "outputs": []
    },
    {
      "metadata": {
        "_uuid": "407bea5017702c502cfd7e76b454abc4a2f42b95"
      },
      "cell_type": "markdown",
      "source": "## collection_12_ex_med"
    },
    {
      "metadata": {
        "trusted": true,
        "_uuid": "591c408ea46c0bc810ce2f145f623a2c72e178c2"
      },
      "cell_type": "code",
      "source": "data.collections_12_mths_ex_med.value_counts()",
      "execution_count": 32,
      "outputs": [
        {
          "output_type": "execute_result",
          "execution_count": 32,
          "data": {
            "text/plain": "0.0     861136\n1.0      10543\n2.0        720\n3.0         85\n4.0         23\n5.0          7\n6.0          2\n7.0          1\n16.0         1\n20.0         1\n14.0         1\n10.0         1\nName: collections_12_mths_ex_med, dtype: int64"
          },
          "metadata": {}
        }
      ]
    },
    {
      "metadata": {
        "trusted": true,
        "_uuid": "624c91adfb99c6cf6e51398e345880096d918e88"
      },
      "cell_type": "code",
      "source": "temp = data[data['collections_12_mths_ex_med'] > 0]\ntemp.shape[0]",
      "execution_count": 33,
      "outputs": [
        {
          "output_type": "execute_result",
          "execution_count": 33,
          "data": {
            "text/plain": "11385"
          },
          "metadata": {}
        }
      ]
    },
    {
      "metadata": {
        "trusted": true,
        "_uuid": "506e6f37f3a8e0f5fa3d6561a59a71810302abcb"
      },
      "cell_type": "code",
      "source": "len(temp[temp.defaulter == -1])",
      "execution_count": 34,
      "outputs": [
        {
          "output_type": "execute_result",
          "execution_count": 34,
          "data": {
            "text/plain": "604"
          },
          "metadata": {}
        }
      ]
    },
    {
      "metadata": {
        "trusted": true,
        "_uuid": "fe9195bb297db68fc020c893a61484df5adfd02e"
      },
      "cell_type": "code",
      "source": "to_remove.append(\"collections_12_mths_ex_med\")",
      "execution_count": 35,
      "outputs": []
    },
    {
      "metadata": {
        "_uuid": "c87864c4ce7196f22f2cc3d46ec50ab5d88118fd"
      },
      "cell_type": "markdown",
      "source": "Completely skewed attribute. Doesn't seem to contribute to output."
    },
    {
      "metadata": {
        "_uuid": "8312da594065507d6a641a8b2f0c8c7be1003a7f"
      },
      "cell_type": "markdown",
      "source": "## dti (Debt-to-income ratio)"
    },
    {
      "metadata": {
        "trusted": true,
        "_uuid": "034fc42d107454fc796f1b1c4fe05b7ddc5b2098"
      },
      "cell_type": "code",
      "source": "data.groupby('defaulter').dti.mean()",
      "execution_count": 36,
      "outputs": [
        {
          "output_type": "execute_result",
          "execution_count": 36,
          "data": {
            "text/plain": "defaulter\n-1    18.682776\n 1    18.093967\nName: dti, dtype: float64"
          },
          "metadata": {}
        }
      ]
    },
    {
      "metadata": {
        "trusted": true,
        "_uuid": "63e1aa882c156fb477a51e2e5abad7b7c4707de3"
      },
      "cell_type": "code",
      "source": "data.groupby('defaulter').dti.std()",
      "execution_count": 37,
      "outputs": [
        {
          "output_type": "execute_result",
          "execution_count": 37,
          "data": {
            "text/plain": "defaulter\n-1     8.094418\n 1    17.798041\nName: dti, dtype: float64"
          },
          "metadata": {}
        }
      ]
    },
    {
      "metadata": {
        "trusted": true,
        "_uuid": "9642e85da6d731ab1b6d0ed267bb8235ff010c87"
      },
      "cell_type": "code",
      "source": "plt.figure(figsize=(8,4))\nsns.boxplot(\"dti\", data=data)\nplt.show()",
      "execution_count": 38,
      "outputs": [
        {
          "output_type": "display_data",
          "data": {
            "text/plain": "<Figure size 576x288 with 1 Axes>",
            "image/png": "[encoded data removed]"
          },
          "metadata": {}
        }
      ]
    },
    {
      "metadata": {
        "trusted": true,
        "_uuid": "a68b910fd629f630de6dd996f8df791e0c92a2c9"
      },
      "cell_type": "code",
      "source": "data.dti.describe()",
      "execution_count": 39,
      "outputs": [
        {
          "output_type": "execute_result",
          "execution_count": 39,
          "data": {
            "text/plain": "count    872662.000000\nmean         18.135244\nstd          17.296804\nmin           0.000000\n25%          11.890000\n50%          17.630000\n75%          23.910000\nmax        9999.000000\nName: dti, dtype: float64"
          },
          "metadata": {}
        }
      ]
    },
    {
      "metadata": {
        "trusted": true,
        "_uuid": "7038013234e562e7897edea44c4dc71ee10525af"
      },
      "cell_type": "code",
      "source": "temp = data[data.dti < 100] # just greater than 75th percentile\nplt.figure(figsize=(8,4))\nsns.boxplot(\"dti\", data=temp)\nplt.show()",
      "execution_count": 40,
      "outputs": [
        {
          "output_type": "display_data",
          "data": {
            "text/plain": "<Figure size 576x288 with 1 Axes>",
            "image/png": "[encoded data removed]"
          },
          "metadata": {}
        }
      ]
    },
    {
      "metadata": {
        "trusted": true,
        "_uuid": "985ccda31c1f27923d65c0dd059806c997c59552"
      },
      "cell_type": "code",
      "source": "data.shape[0] - temp.shape[0]",
      "execution_count": 41,
      "outputs": [
        {
          "output_type": "execute_result",
          "execution_count": 41,
          "data": {
            "text/plain": "10"
          },
          "metadata": {}
        }
      ]
    },
    {
      "metadata": {
        "trusted": true,
        "_uuid": "fc331a05e7ea3ba5add991583d58e945d9aa72ca"
      },
      "cell_type": "code",
      "source": "temp.defaulter.value_counts()",
      "execution_count": 42,
      "outputs": [
        {
          "output_type": "execute_result",
          "execution_count": 42,
          "data": {
            "text/plain": " 1    811476\n-1     61176\nName: defaulter, dtype: int64"
          },
          "metadata": {}
        }
      ]
    },
    {
      "metadata": {
        "trusted": true,
        "_uuid": "2e466dba944159fbc3cb4313381477d37533d428"
      },
      "cell_type": "code",
      "source": "temp.groupby(\"defaulter\").dti.mean()",
      "execution_count": 43,
      "outputs": [
        {
          "output_type": "execute_result",
          "execution_count": 43,
          "data": {
            "text/plain": "defaulter\n-1    18.682776\n 1    18.066178\nName: dti, dtype: float64"
          },
          "metadata": {}
        }
      ]
    },
    {
      "metadata": {
        "trusted": true,
        "_uuid": "6daef931bdf94aa06ad8c14d564ebbd364e459ae"
      },
      "cell_type": "code",
      "source": "temp.groupby(\"defaulter\").dti.std()",
      "execution_count": 44,
      "outputs": [
        {
          "output_type": "execute_result",
          "execution_count": 44,
          "data": {
            "text/plain": "defaulter\n-1    8.094418\n 1    8.311117\nName: dti, dtype: float64"
          },
          "metadata": {}
        }
      ]
    },
    {
      "metadata": {
        "_uuid": "55153cd64651ae8305a08920ba61eea7fc6c316c"
      },
      "cell_type": "markdown",
      "source": "The *dti* columns doesn't seem to contribute although logically it represents a good measure of loan repayment. The mean values are almost identical for both cases of defaulter. We can maybe analyze it by using it for building models."
    },
    {
      "metadata": {
        "_uuid": "dc7e06dedeef3d4420f588698e9a27ce05ca4ba4"
      },
      "cell_type": "markdown",
      "source": "# funded_amnt"
    },
    {
      "metadata": {
        "trusted": true,
        "_uuid": "bd9e637c5cd45e12de5d28494a2acb4738702a82"
      },
      "cell_type": "code",
      "source": "plt.figure(figsize=(8,4))\nsns.boxplot(\"funded_amnt\", data=data)\nplt.show()",
      "execution_count": 45,
      "outputs": [
        {
          "output_type": "display_data",
          "data": {
            "text/plain": "<Figure size 576x288 with 1 Axes>",
            "image/png": "[encoded data removed]"
          },
          "metadata": {}
        }
      ]
    },
    {
      "metadata": {
        "trusted": true,
        "_uuid": "4738ac7229543039d3a077f135812efb6e66d897"
      },
      "cell_type": "code",
      "source": "data.groupby(\"defaulter\").funded_amnt.mean()",
      "execution_count": 46,
      "outputs": [
        {
          "output_type": "execute_result",
          "execution_count": 46,
          "data": {
            "text/plain": "defaulter\n-1    14703.684860\n 1    14729.255773\nName: funded_amnt, dtype: float64"
          },
          "metadata": {}
        }
      ]
    },
    {
      "metadata": {
        "trusted": true,
        "_uuid": "2de2e20e93c170b138b111ac9248f3287fc8c925"
      },
      "cell_type": "code",
      "source": "data.groupby(\"defaulter\").funded_amnt.std()",
      "execution_count": 47,
      "outputs": [
        {
          "output_type": "execute_result",
          "execution_count": 47,
          "data": {
            "text/plain": "defaulter\n-1    8421.736501\n 1    8422.697129\nName: funded_amnt, dtype: float64"
          },
          "metadata": {}
        }
      ]
    },
    {
      "metadata": {
        "trusted": true,
        "_uuid": "8b205df79c1d1ba82e094c5ef80240d9f09dfa87"
      },
      "cell_type": "code",
      "source": "plt.figure(figsize=(8,8))\nsns.violinplot(x='defaulter', y='funded_amnt', data=data)\nplt.show()",
      "execution_count": 48,
      "outputs": [
        {
          "output_type": "stream",
          "text": "/opt/conda/lib/python3.6/site-packages/scipy/stats/stats.py:1713: FutureWarning: Using a non-tuple sequence for multidimensional indexing is deprecated; use `arr[tuple(seq)]` instead of `arr[seq]`. In the future this will be interpreted as an array index, `arr[np.array(seq)]`, which will result either in an error or a different result.\n  return np.add.reduce(sorted[indexer] * weights, axis=axis) / sumval\n",
          "name": "stderr"
        },
        {
          "output_type": "display_data",
          "data": {
            "text/plain": "<Figure size 576x576 with 1 Axes>",
            "image/png": "[encoded data removed]"
          },
          "metadata": {}
        }
      ]
    },
    {
      "metadata": {
        "trusted": true,
        "_uuid": "bd2f88061ffbbd58861268ba8873f10dd5318562"
      },
      "cell_type": "code",
      "source": "to_remove.append('funded_amnt')",
      "execution_count": 49,
      "outputs": []
    },
    {
      "metadata": {
        "_uuid": "009b912750242ae6f2461745675e05b413ae919f"
      },
      "cell_type": "markdown",
      "source": "Values seem to be distributed similarly across both defaulter values. Thus it does not seem to be contributing to the result."
    },
    {
      "metadata": {
        "_uuid": "30ab8fd82cab3cde5dec7aba16a4dddb86436c1d"
      },
      "cell_type": "markdown",
      "source": "## initial_list_status"
    },
    {
      "metadata": {
        "trusted": true,
        "_uuid": "1ec36a4ac13d2cb5502f1e605b00d430002b63ea"
      },
      "cell_type": "code",
      "source": "data.groupby('defaulter').initial_list_status.value_counts()",
      "execution_count": 50,
      "outputs": [
        {
          "output_type": "execute_result",
          "execution_count": 50,
          "data": {
            "text/plain": "defaulter  initial_list_status\n-1         f                       41865\n           w                       19311\n 1         f                      410938\n           w                      400548\nName: initial_list_status, dtype: int64"
          },
          "metadata": {}
        }
      ]
    },
    {
      "metadata": {
        "trusted": true,
        "_uuid": "db241f64c1eb482ade8b82ccc96cf80974dbbfdc"
      },
      "cell_type": "code",
      "source": "plt.figure(figsize=(8,6))\nsns.countplot(x='initial_list_status', hue='defaulter', data=data)\nplt.ylabel('Frequency', fontsize=12)\nplt.xlabel('initial_list_status', fontsize=12)\nplt.show()",
      "execution_count": 51,
      "outputs": [
        {
          "output_type": "display_data",
          "data": {
            "text/plain": "<Figure size 576x432 with 1 Axes>",
            "image/png": "[encoded data removed]"
          },
          "metadata": {}
        }
      ]
    },
    {
      "metadata": {
        "_uuid": "5c3a5cf39f54157e35a113e880b54c8f23b10fe4"
      },
      "cell_type": "markdown",
      "source": "Probability of being a defaulter is slightly more incase of fractional loans ('f') than whole loans ('w'). It seems to be contributing slightly. This feature seems to be useful considering our skewed dataset."
    },
    {
      "metadata": {
        "_uuid": "15e8450cec350b6ba3765287a80a3f44c8ec9ae5"
      },
      "cell_type": "markdown",
      "source": "## int_rate (Interest rate)"
    },
    {
      "metadata": {
        "trusted": true,
        "_uuid": "02d193d9a6661f215e11ac9986d390b2f15410b1"
      },
      "cell_type": "code",
      "source": "plt.figure(figsize=(8,6))\nsns.violinplot(x='defaulter', y='int_rate', data=data)\nplt.show()",
      "execution_count": 52,
      "outputs": [
        {
          "output_type": "stream",
          "text": "/opt/conda/lib/python3.6/site-packages/scipy/stats/stats.py:1713: FutureWarning: Using a non-tuple sequence for multidimensional indexing is deprecated; use `arr[tuple(seq)]` instead of `arr[seq]`. In the future this will be interpreted as an array index, `arr[np.array(seq)]`, which will result either in an error or a different result.\n  return np.add.reduce(sorted[indexer] * weights, axis=axis) / sumval\n",
          "name": "stderr"
        },
        {
          "output_type": "display_data",
          "data": {
            "text/plain": "<Figure size 576x432 with 1 Axes>",
            "image/png": "[encoded data removed]"
          },
          "metadata": {}
        }
      ]
    },
    {
      "metadata": {
        "trusted": true,
        "_uuid": "a00ee45555cb279e7674f131146d2edf4a7e03c6"
      },
      "cell_type": "code",
      "source": "data.groupby(\"defaulter\").int_rate.mean()",
      "execution_count": 53,
      "outputs": [
        {
          "output_type": "execute_result",
          "execution_count": 53,
          "data": {
            "text/plain": "defaulter\n-1    15.986362\n 1    13.032407\nName: int_rate, dtype: float64"
          },
          "metadata": {}
        }
      ]
    },
    {
      "metadata": {
        "trusted": true,
        "_uuid": "4a80c7dc825fea006caac219371dff1896498b0b"
      },
      "cell_type": "code",
      "source": "data.groupby(\"defaulter\").int_rate.std()",
      "execution_count": 54,
      "outputs": [
        {
          "output_type": "execute_result",
          "execution_count": 54,
          "data": {
            "text/plain": "defaulter\n-1    4.297696\n 1    4.313445\nName: int_rate, dtype: float64"
          },
          "metadata": {}
        }
      ]
    },
    {
      "metadata": {
        "_uuid": "f1d921888026943cf8874cffb9a811b1296ecc33"
      },
      "cell_type": "markdown",
      "source": "This feature seems important since a higher interest rate seems to lead to more defaulters."
    },
    {
      "metadata": {
        "_uuid": "427a19b6133bfdbfbca30960cc69e338f2543786"
      },
      "cell_type": "markdown",
      "source": "## policy_code"
    },
    {
      "metadata": {
        "trusted": true,
        "_uuid": "76756d941f16df0532e7756cebbb61f3d1d3ec4f"
      },
      "cell_type": "code",
      "source": "data.policy_code.value_counts()",
      "execution_count": 55,
      "outputs": [
        {
          "output_type": "execute_result",
          "execution_count": 55,
          "data": {
            "text/plain": "1.0    872662\nName: policy_code, dtype: int64"
          },
          "metadata": {}
        }
      ]
    },
    {
      "metadata": {
        "trusted": true,
        "_uuid": "3f9980f788eedfab67a613ad239c6796de1961aa"
      },
      "cell_type": "code",
      "source": "to_remove.append(\"policy_code\")",
      "execution_count": 56,
      "outputs": []
    },
    {
      "metadata": {
        "_uuid": "7982b45713726ab0a42ce314200d1c26dc052050"
      },
      "cell_type": "markdown",
      "source": "Clearly not useful since it has only one value for all columns."
    },
    {
      "metadata": {
        "_uuid": "adb077369fecc125b120a7894ffc0f9b3f4d4e48"
      },
      "cell_type": "markdown",
      "source": "# pub_rec"
    },
    {
      "metadata": {
        "trusted": true,
        "_uuid": "b58e65dcc4993aba5f347b6540a550063f6f8426"
      },
      "cell_type": "code",
      "source": "data.pub_rec.value_counts()",
      "execution_count": 57,
      "outputs": [
        {
          "output_type": "execute_result",
          "execution_count": 57,
          "data": {
            "text/plain": "0.0     739465\n1.0     111165\n2.0      14519\n3.0       4396\n4.0       1527\n5.0        739\n6.0        372\n7.0        167\n8.0        111\n9.0         48\n10.0        41\n11.0        22\n12.0        15\n13.0        12\n15.0         6\n18.0         5\n16.0         5\n21.0         4\n17.0         3\n14.0         2\n19.0         2\n49.0         2\n40.0         1\n26.0         1\n63.0         1\n22.0         1\n28.0         1\n86.0         1\n34.0         1\n23.0         1\n54.0         1\nName: pub_rec, dtype: int64"
          },
          "metadata": {}
        }
      ]
    },
    {
      "metadata": {
        "trusted": true,
        "_uuid": "0028a434acc90c692b1b5d055c0d27f2378b5587"
      },
      "cell_type": "code",
      "source": "data.groupby(\"pub_rec\").defaulter.value_counts()",
      "execution_count": 58,
      "outputs": [
        {
          "output_type": "execute_result",
          "execution_count": 58,
          "data": {
            "text/plain": "pub_rec  defaulter\n0.0       1           686523\n         -1            52942\n1.0       1           104048\n         -1             7117\n2.0       1            13755\n         -1              764\n3.0       1             4187\n         -1              209\n4.0       1             1450\n         -1               77\n5.0       1              703\n         -1               36\n6.0       1              357\n         -1               15\n7.0       1              162\n         -1                5\n8.0       1              110\n         -1                1\n9.0       1               44\n         -1                4\n10.0      1               41\n11.0      1               21\n         -1                1\n12.0      1               13\n         -1                2\n13.0      1               12\n14.0      1                2\n15.0      1                6\n16.0      1                5\n17.0      1                3\n18.0      1                5\n19.0      1                2\n21.0      1                4\n22.0      1                1\n23.0      1                1\n26.0      1                1\n28.0      1                1\n34.0      1                1\n40.0      1                1\n49.0      1                2\n54.0      1                1\n63.0      1                1\n86.0      1                1\nName: defaulter, dtype: int64"
          },
          "metadata": {}
        }
      ]
    },
    {
      "metadata": {
        "trusted": true,
        "_uuid": "a1581d6335d935971200d406ad75909255a17156"
      },
      "cell_type": "code",
      "source": "to_remove.append(\"pub_rec\")",
      "execution_count": 59,
      "outputs": []
    },
    {
      "metadata": {
        "_uuid": "baabb80a6cfd8e010a0b9e319dd36a81e3436c01"
      },
      "cell_type": "markdown",
      "source": "The probability of a defaulter given the pub_rec value doesn't seem to be much different than just the probability of the class. The higher values having defaulter as 1 might be because of the skewed data set."
    },
    {
      "metadata": {
        "_uuid": "e8fc942b181e91021fdde6c75cc6745c2c25d997"
      },
      "cell_type": "markdown",
      "source": "## pymnt_plan"
    },
    {
      "metadata": {
        "trusted": true,
        "_uuid": "0aedaaf4342a054e66a8d0c27c269c0c9cf2b989"
      },
      "cell_type": "code",
      "source": "data.pymnt_plan.value_counts()",
      "execution_count": 60,
      "outputs": [
        {
          "output_type": "execute_result",
          "execution_count": 60,
          "data": {
            "text/plain": "n    872652\ny        10\nName: pymnt_plan, dtype: int64"
          },
          "metadata": {}
        }
      ]
    },
    {
      "metadata": {
        "trusted": true,
        "_uuid": "0b5b565f5d7bad5d3e47b31acbe6bcb0ea65e2f7"
      },
      "cell_type": "code",
      "source": "data.groupby(\"pymnt_plan\").defaulter.value_counts()",
      "execution_count": 61,
      "outputs": [
        {
          "output_type": "execute_result",
          "execution_count": 61,
          "data": {
            "text/plain": "pymnt_plan  defaulter\nn            1           811481\n            -1            61171\ny           -1                5\n             1                5\nName: defaulter, dtype: int64"
          },
          "metadata": {}
        }
      ]
    },
    {
      "metadata": {
        "trusted": true,
        "_uuid": "8b571dd8e0b5c7c6f4e69779d18a2916b1893854"
      },
      "cell_type": "code",
      "source": "to_remove.append(\"pymnt_plan\")",
      "execution_count": 62,
      "outputs": []
    },
    {
      "metadata": {
        "_uuid": "fec48388cb983d226294ca1b9bf79731e4a1d4a0"
      },
      "cell_type": "markdown",
      "source": "The attribute values are skewed and the distribution of defaulters is also uniform. This attribute doesn't seem to be useful."
    },
    {
      "metadata": {
        "_uuid": "aec3c002baf93aed91439e806d35155b2210590c"
      },
      "cell_type": "markdown",
      "source": "## revol_util"
    },
    {
      "metadata": {
        "trusted": true,
        "_uuid": "da56646168b3d2c68667b12ce856cdcce6cfd7dd"
      },
      "cell_type": "code",
      "source": "plt.figure(figsize=(8,4))\nsns.boxplot(\"revol_util\", data=data)\nplt.show()",
      "execution_count": 63,
      "outputs": [
        {
          "output_type": "display_data",
          "data": {
            "text/plain": "<Figure size 576x288 with 1 Axes>",
            "image/png": "[encoded data removed]"
          },
          "metadata": {}
        }
      ]
    },
    {
      "metadata": {
        "trusted": true,
        "_uuid": "8219bf1c2b2aa37d3e002576889f90b49b0f0277"
      },
      "cell_type": "code",
      "source": "temp = data[data.revol_util < 120] # Just near whisker end\n\nplt.figure(figsize=(8,4))\nsns.violinplot(x='defaulter', y='revol_util', data=temp) # We use \nplt.show()",
      "execution_count": 64,
      "outputs": [
        {
          "output_type": "stream",
          "text": "/opt/conda/lib/python3.6/site-packages/scipy/stats/stats.py:1713: FutureWarning: Using a non-tuple sequence for multidimensional indexing is deprecated; use `arr[tuple(seq)]` instead of `arr[seq]`. In the future this will be interpreted as an array index, `arr[np.array(seq)]`, which will result either in an error or a different result.\n  return np.add.reduce(sorted[indexer] * weights, axis=axis) / sumval\n",
          "name": "stderr"
        },
        {
          "output_type": "display_data",
          "data": {
            "text/plain": "<Figure size 576x288 with 1 Axes>",
            "image/png": "[encoded data removed]"
          },
          "metadata": {}
        }
      ]
    },
    {
      "metadata": {
        "trusted": true,
        "_uuid": "6435764db6e8114fae52d6f1ce4dd28c0b1a7881"
      },
      "cell_type": "code",
      "source": "data.groupby(\"defaulter\").revol_util.mean()",
      "execution_count": 65,
      "outputs": [
        {
          "output_type": "execute_result",
          "execution_count": 65,
          "data": {
            "text/plain": "defaulter\n-1    59.139876\n 1    54.759365\nName: revol_util, dtype: float64"
          },
          "metadata": {}
        }
      ]
    },
    {
      "metadata": {
        "trusted": true,
        "_uuid": "70fdd6bb400073889000ba0c6323c1a1a23e2d28"
      },
      "cell_type": "code",
      "source": "data.groupby(\"defaulter\").revol_util.std()",
      "execution_count": 66,
      "outputs": [
        {
          "output_type": "execute_result",
          "execution_count": 66,
          "data": {
            "text/plain": "defaulter\n-1    23.529820\n 1    23.817657\nName: revol_util, dtype: float64"
          },
          "metadata": {}
        }
      ]
    },
    {
      "metadata": {
        "trusted": true,
        "_uuid": "f98ad4442eb1876a8d2a532630cd60f74d2092dd"
      },
      "cell_type": "code",
      "source": "to_remove.append(\"revol_util\")",
      "execution_count": 67,
      "outputs": []
    },
    {
      "metadata": {
        "_uuid": "6be6030ee06302b652abd2ff283819dad1411b37"
      },
      "cell_type": "markdown",
      "source": "Even this attribute doesn't seem to affect the condtional distribution of defaulter."
    },
    {
      "metadata": {
        "_uuid": "23aca883ca7356dbb19fc5aee9a4180c47398657"
      },
      "cell_type": "markdown",
      "source": "## sub_grade"
    },
    {
      "metadata": {
        "trusted": true,
        "_uuid": "5e29e3ca0a86d4e850106404c178e3463377da22"
      },
      "cell_type": "code",
      "source": "len(data.sub_grade.unique())",
      "execution_count": 68,
      "outputs": [
        {
          "output_type": "execute_result",
          "execution_count": 68,
          "data": {
            "text/plain": "35"
          },
          "metadata": {}
        }
      ]
    },
    {
      "metadata": {
        "trusted": true,
        "_uuid": "a04c9e5c6e153fcdef2b28593ad65e9842c5495c"
      },
      "cell_type": "code",
      "source": "data.sub_grade.value_counts()",
      "execution_count": 69,
      "outputs": [
        {
          "output_type": "execute_result",
          "execution_count": 69,
          "data": {
            "text/plain": "B3    55502\nB4    54823\nC1    52445\nC2    51377\nC3    49281\nB2    48069\nB5    48021\nC4    47949\nB1    44351\nA5    44272\nC5    40449\nD1    35605\nA4    34152\nD2    29239\nD3    26043\nD4    25096\nA3    23198\nA1    22565\nA2    22198\nD5    20969\nE1    17911\nE2    16644\nE3    13831\nE4    11485\nE5     9333\nF1     7056\nF2     5265\nF3     4315\nF4     3344\nF5     2518\nG1     1831\nG2     1361\nG3      961\nG4      641\nG5      562\nName: sub_grade, dtype: int64"
          },
          "metadata": {}
        }
      ]
    },
    {
      "metadata": {
        "trusted": true,
        "_uuid": "1c076764ca37d2a48cba6b6fb3225ebd51a27405"
      },
      "cell_type": "code",
      "source": "data.groupby(\"sub_grade\").defaulter.value_counts()",
      "execution_count": 70,
      "outputs": [
        {
          "output_type": "execute_result",
          "execution_count": 70,
          "data": {
            "text/plain": "sub_grade  defaulter\nA1          1           22338\n           -1             227\nA2          1           21831\n           -1             367\nA3          1           22700\n           -1             498\nA4          1           33220\n           -1             932\nA5          1           42998\n           -1            1274\nB1          1           42797\n           -1            1554\nB2          1           46014\n           -1            2055\nB3          1           52722\n           -1            2780\nB4          1           51787\n           -1            3036\nB5          1           45230\n           -1            2791\nC1          1           49141\n           -1            3304\nC2          1           47953\n           -1            3424\nC3          1           45805\n           -1            3476\nC4          1           44411\n           -1            3538\nC5          1           37024\n           -1            3425\n                        ...  \nE1          1           15889\n           -1            2022\nE2          1           14560\n           -1            2084\nE3          1           12085\n           -1            1746\nE4          1            9901\n           -1            1584\nE5          1            7932\n           -1            1401\nF1          1            5951\n           -1            1105\nF2          1            4376\n           -1             889\nF3          1            3488\n           -1             827\nF4          1            2685\n           -1             659\nF5          1            1969\n           -1             549\nG1          1            1424\n           -1             407\nG2          1            1072\n           -1             289\nG3          1             751\n           -1             210\nG4          1             515\n           -1             126\nG5          1             419\n           -1             143\nName: defaulter, Length: 70, dtype: int64"
          },
          "metadata": {}
        }
      ]
    },
    {
      "metadata": {
        "trusted": true,
        "_uuid": "3aec360ec11558f4452c1d15ad5fa988bd7a3b4c"
      },
      "cell_type": "code",
      "source": "data.groupby(\"grade\").sub_grade.value_counts()",
      "execution_count": 71,
      "outputs": [
        {
          "output_type": "execute_result",
          "execution_count": 71,
          "data": {
            "text/plain": "grade  sub_grade\nA      A5           44272\n       A4           34152\n       A3           23198\n       A1           22565\n       A2           22198\nB      B3           55502\n       B4           54823\n       B2           48069\n       B5           48021\n       B1           44351\nC      C1           52445\n       C2           51377\n       C3           49281\n       C4           47949\n       C5           40449\nD      D1           35605\n       D2           29239\n       D3           26043\n       D4           25096\n       D5           20969\nE      E1           17911\n       E2           16644\n       E3           13831\n       E4           11485\n       E5            9333\nF      F1            7056\n       F2            5265\n       F3            4315\n       F4            3344\n       F5            2518\nG      G1            1831\n       G2            1361\n       G3             961\n       G4             641\n       G5             562\nName: sub_grade, dtype: int64"
          },
          "metadata": {}
        }
      ]
    },
    {
      "metadata": {
        "trusted": true,
        "_uuid": "8a8bc8a059ae7c5afae3123adf091f48ddc570cc"
      },
      "cell_type": "code",
      "source": "temp = pd.crosstab(data.sub_grade, data.defaulter)\ntemp.head()",
      "execution_count": 72,
      "outputs": [
        {
          "output_type": "execute_result",
          "execution_count": 72,
          "data": {
            "text/plain": "defaulter    -1      1\nsub_grade             \nA1          227  22338\nA2          367  21831\nA3          498  22700\nA4          932  33220\nA5         1274  42998",
            "text/html": "<div>\n<style scoped>\n    .dataframe tbody tr th:only-of-type {\n        vertical-align: middle;\n    }\n\n    .dataframe tbody tr th {\n        vertical-align: top;\n    }\n\n    .dataframe thead th {\n        text-align: right;\n    }\n</style>\n<table border=\"1\" class=\"dataframe\">\n  <thead>\n    <tr style=\"text-align: right;\">\n      <th>defaulter</th>\n      <th>-1</th>\n      <th>1</th>\n    </tr>\n    <tr>\n      <th>sub_grade</th>\n      <th></th>\n      <th></th>\n    </tr>\n  </thead>\n  <tbody>\n    <tr>\n      <th>A1</th>\n      <td>227</td>\n      <td>22338</td>\n    </tr>\n    <tr>\n      <th>A2</th>\n      <td>367</td>\n      <td>21831</td>\n    </tr>\n    <tr>\n      <th>A3</th>\n      <td>498</td>\n      <td>22700</td>\n    </tr>\n    <tr>\n      <th>A4</th>\n      <td>932</td>\n      <td>33220</td>\n    </tr>\n    <tr>\n      <th>A5</th>\n      <td>1274</td>\n      <td>42998</td>\n    </tr>\n  </tbody>\n</table>\n</div>"
          },
          "metadata": {}
        }
      ]
    },
    {
      "metadata": {
        "trusted": true,
        "_uuid": "954828203401afdd48357d38c58c8c1d93dc7cfa"
      },
      "cell_type": "code",
      "source": "temp[\"ratio\"] = temp[-1] / temp[1]\ntemp.head()",
      "execution_count": 73,
      "outputs": [
        {
          "output_type": "execute_result",
          "execution_count": 73,
          "data": {
            "text/plain": "defaulter    -1      1     ratio\nsub_grade                       \nA1          227  22338  0.010162\nA2          367  21831  0.016811\nA3          498  22700  0.021938\nA4          932  33220  0.028055\nA5         1274  42998  0.029629",
            "text/html": "<div>\n<style scoped>\n    .dataframe tbody tr th:only-of-type {\n        vertical-align: middle;\n    }\n\n    .dataframe tbody tr th {\n        vertical-align: top;\n    }\n\n    .dataframe thead th {\n        text-align: right;\n    }\n</style>\n<table border=\"1\" class=\"dataframe\">\n  <thead>\n    <tr style=\"text-align: right;\">\n      <th>defaulter</th>\n      <th>-1</th>\n      <th>1</th>\n      <th>ratio</th>\n    </tr>\n    <tr>\n      <th>sub_grade</th>\n      <th></th>\n      <th></th>\n      <th></th>\n    </tr>\n  </thead>\n  <tbody>\n    <tr>\n      <th>A1</th>\n      <td>227</td>\n      <td>22338</td>\n      <td>0.010162</td>\n    </tr>\n    <tr>\n      <th>A2</th>\n      <td>367</td>\n      <td>21831</td>\n      <td>0.016811</td>\n    </tr>\n    <tr>\n      <th>A3</th>\n      <td>498</td>\n      <td>22700</td>\n      <td>0.021938</td>\n    </tr>\n    <tr>\n      <th>A4</th>\n      <td>932</td>\n      <td>33220</td>\n      <td>0.028055</td>\n    </tr>\n    <tr>\n      <th>A5</th>\n      <td>1274</td>\n      <td>42998</td>\n      <td>0.029629</td>\n    </tr>\n  </tbody>\n</table>\n</div>"
          },
          "metadata": {}
        }
      ]
    },
    {
      "metadata": {
        "trusted": true,
        "_uuid": "7060bef504c66f04ac9247d57630fef2aa0d92db"
      },
      "cell_type": "code",
      "source": "temp[\"sub_grade\"] = temp.index\ntemp.head()",
      "execution_count": 74,
      "outputs": [
        {
          "output_type": "execute_result",
          "execution_count": 74,
          "data": {
            "text/plain": "defaulter    -1      1     ratio sub_grade\nsub_grade                                 \nA1          227  22338  0.010162        A1\nA2          367  21831  0.016811        A2\nA3          498  22700  0.021938        A3\nA4          932  33220  0.028055        A4\nA5         1274  42998  0.029629        A5",
            "text/html": "<div>\n<style scoped>\n    .dataframe tbody tr th:only-of-type {\n        vertical-align: middle;\n    }\n\n    .dataframe tbody tr th {\n        vertical-align: top;\n    }\n\n    .dataframe thead th {\n        text-align: right;\n    }\n</style>\n<table border=\"1\" class=\"dataframe\">\n  <thead>\n    <tr style=\"text-align: right;\">\n      <th>defaulter</th>\n      <th>-1</th>\n      <th>1</th>\n      <th>ratio</th>\n      <th>sub_grade</th>\n    </tr>\n    <tr>\n      <th>sub_grade</th>\n      <th></th>\n      <th></th>\n      <th></th>\n      <th></th>\n    </tr>\n  </thead>\n  <tbody>\n    <tr>\n      <th>A1</th>\n      <td>227</td>\n      <td>22338</td>\n      <td>0.010162</td>\n      <td>A1</td>\n    </tr>\n    <tr>\n      <th>A2</th>\n      <td>367</td>\n      <td>21831</td>\n      <td>0.016811</td>\n      <td>A2</td>\n    </tr>\n    <tr>\n      <th>A3</th>\n      <td>498</td>\n      <td>22700</td>\n      <td>0.021938</td>\n      <td>A3</td>\n    </tr>\n    <tr>\n      <th>A4</th>\n      <td>932</td>\n      <td>33220</td>\n      <td>0.028055</td>\n      <td>A4</td>\n    </tr>\n    <tr>\n      <th>A5</th>\n      <td>1274</td>\n      <td>42998</td>\n      <td>0.029629</td>\n      <td>A5</td>\n    </tr>\n  </tbody>\n</table>\n</div>"
          },
          "metadata": {}
        }
      ]
    },
    {
      "metadata": {
        "trusted": true,
        "_uuid": "e795241067bbb5a7533be481e833a7eb5ff82b6e"
      },
      "cell_type": "code",
      "source": "plt.figure(figsize=(14,6))\nsns.barplot(x='sub_grade', y=\"ratio\", data=temp)\nplt.ylabel('Ratio of defaulters to non-defaulters', fontsize=12)\nplt.xlabel('sub_grade', fontsize=12)\nplt.show()",
      "execution_count": 75,
      "outputs": [
        {
          "output_type": "display_data",
          "data": {
            "text/plain": "<Figure size 1008x432 with 1 Axes>",
            "image/png": "[encoded data removed]"
          },
          "metadata": {}
        }
      ]
    },
    {
      "metadata": {
        "_uuid": "244c9c2840de9aed93195495f14669595dc17096"
      },
      "cell_type": "markdown",
      "source": "sub_grade seems to be an important column since the ratio of defaulters to non-defaulters increases with decrease in subgrade. We can compare it with grade when we build models, maybe with respect to measures like info gain."
    },
    {
      "metadata": {
        "_uuid": "b8a4ce21a5145f716fb5264d59817c02cea3a45b"
      },
      "cell_type": "markdown",
      "source": "## application_type"
    },
    {
      "metadata": {
        "trusted": true,
        "_uuid": "63c8198698c2e2af6b79c10a5288b282cd7bae53"
      },
      "cell_type": "code",
      "source": "data.groupby(\"application_type\").defaulter.value_counts()",
      "execution_count": 76,
      "outputs": [
        {
          "output_type": "execute_result",
          "execution_count": 76,
          "data": {
            "text/plain": "application_type  defaulter\nINDIVIDUAL         1           811044\n                  -1            61174\nJOINT              1              442\n                  -1                2\nName: defaulter, dtype: int64"
          },
          "metadata": {}
        }
      ]
    },
    {
      "metadata": {
        "trusted": true,
        "_uuid": "c3b8152b2b343442a0515e14b2f8b5069b3be0c7"
      },
      "cell_type": "code",
      "source": "to_remove.append(\"application_type\")",
      "execution_count": 77,
      "outputs": []
    },
    {
      "metadata": {
        "_uuid": "13157ed2c9eb7bb2c0519eb316a759c44339c8bc"
      },
      "cell_type": "markdown",
      "source": "There doesn't seem to be any relation between defaulter and application_type."
    },
    {
      "metadata": {
        "_uuid": "cfe3be4f768451187b26bb7d53e127bdebf8016c"
      },
      "cell_type": "markdown",
      "source": "## delinq_2yrs"
    },
    {
      "metadata": {
        "trusted": true,
        "_uuid": "e3a3300a9a1f2ae97c1d8a74254e6e52c96d5e82"
      },
      "cell_type": "code",
      "source": "len(data.delinq_2yrs.unique())",
      "execution_count": 78,
      "outputs": [
        {
          "output_type": "execute_result",
          "execution_count": 78,
          "data": {
            "text/plain": "30"
          },
          "metadata": {}
        }
      ]
    },
    {
      "metadata": {
        "trusted": true,
        "_uuid": "cb6c52daa730a4f3abc2b4c1e46cbd56f68f32fa"
      },
      "cell_type": "code",
      "source": "data.groupby(\"delinq_2yrs\").defaulter.value_counts()",
      "execution_count": 79,
      "outputs": [
        {
          "output_type": "execute_result",
          "execution_count": 79,
          "data": {
            "text/plain": "delinq_2yrs  defaulter\n0.0           1           655933\n             -1            49733\n1.0           1           103540\n             -1             7518\n2.0           1            30545\n             -1             2317\n3.0           1            10860\n             -1              838\n4.0           1             4859\n             -1              348\n5.0           1             2461\n             -1              187\n6.0           1             1344\n             -1               90\n7.0           1              697\n             -1               57\n8.0           1              426\n             -1               25\n9.0           1              258\n             -1               16\n10.0          1              171\n             -1               13\n11.0          1              113\n             -1                6\n12.0          1               76\n             -1               13\n13.0          1               57\n             -1                4\n14.0          1               43\n             -1                2\n15.0          1               25\n             -1                2\n16.0          1               17\n17.0          1                9\n             -1                1\n18.0          1               10\n             -1                1\n19.0          1                8\n20.0         -1                1\n              1                1\n21.0         -1                1\n              1                1\n22.0          1                3\n24.0          1                1\n26.0          1                2\n27.0          1                1\n29.0          1                1\n30.0          1                1\n39.0          1                1\nName: defaulter, dtype: int64"
          },
          "metadata": {}
        }
      ]
    },
    {
      "metadata": {
        "trusted": true,
        "_uuid": "d0939f6f5d693e5b316cb22bf35d7a5dd9f3d6fe"
      },
      "cell_type": "code",
      "source": "temp = pd.crosstab(data.delinq_2yrs, data.defaulter)\ntemp.head()",
      "execution_count": 80,
      "outputs": [
        {
          "output_type": "execute_result",
          "execution_count": 80,
          "data": {
            "text/plain": "defaulter       -1       1\ndelinq_2yrs               \n0.0          49733  655933\n1.0           7518  103540\n2.0           2317   30545\n3.0            838   10860\n4.0            348    4859",
            "text/html": "<div>\n<style scoped>\n    .dataframe tbody tr th:only-of-type {\n        vertical-align: middle;\n    }\n\n    .dataframe tbody tr th {\n        vertical-align: top;\n    }\n\n    .dataframe thead th {\n        text-align: right;\n    }\n</style>\n<table border=\"1\" class=\"dataframe\">\n  <thead>\n    <tr style=\"text-align: right;\">\n      <th>defaulter</th>\n      <th>-1</th>\n      <th>1</th>\n    </tr>\n    <tr>\n      <th>delinq_2yrs</th>\n      <th></th>\n      <th></th>\n    </tr>\n  </thead>\n  <tbody>\n    <tr>\n      <th>0.0</th>\n      <td>49733</td>\n      <td>655933</td>\n    </tr>\n    <tr>\n      <th>1.0</th>\n      <td>7518</td>\n      <td>103540</td>\n    </tr>\n    <tr>\n      <th>2.0</th>\n      <td>2317</td>\n      <td>30545</td>\n    </tr>\n    <tr>\n      <th>3.0</th>\n      <td>838</td>\n      <td>10860</td>\n    </tr>\n    <tr>\n      <th>4.0</th>\n      <td>348</td>\n      <td>4859</td>\n    </tr>\n  </tbody>\n</table>\n</div>"
          },
          "metadata": {}
        }
      ]
    },
    {
      "metadata": {
        "trusted": true,
        "_uuid": "4e04be6c4296b2231c3e7fb1648a5cf6364885e5"
      },
      "cell_type": "code",
      "source": "temp[\"ratio\"] = temp.apply(lambda x: (x[-1]/x[1]), axis=1)\ntemp.head()",
      "execution_count": 81,
      "outputs": [
        {
          "output_type": "execute_result",
          "execution_count": 81,
          "data": {
            "text/plain": "defaulter       -1       1     ratio\ndelinq_2yrs                         \n0.0          49733  655933  0.075820\n1.0           7518  103540  0.072610\n2.0           2317   30545  0.075855\n3.0            838   10860  0.077164\n4.0            348    4859  0.071620",
            "text/html": "<div>\n<style scoped>\n    .dataframe tbody tr th:only-of-type {\n        vertical-align: middle;\n    }\n\n    .dataframe tbody tr th {\n        vertical-align: top;\n    }\n\n    .dataframe thead th {\n        text-align: right;\n    }\n</style>\n<table border=\"1\" class=\"dataframe\">\n  <thead>\n    <tr style=\"text-align: right;\">\n      <th>defaulter</th>\n      <th>-1</th>\n      <th>1</th>\n      <th>ratio</th>\n    </tr>\n    <tr>\n      <th>delinq_2yrs</th>\n      <th></th>\n      <th></th>\n      <th></th>\n    </tr>\n  </thead>\n  <tbody>\n    <tr>\n      <th>0.0</th>\n      <td>49733</td>\n      <td>655933</td>\n      <td>0.075820</td>\n    </tr>\n    <tr>\n      <th>1.0</th>\n      <td>7518</td>\n      <td>103540</td>\n      <td>0.072610</td>\n    </tr>\n    <tr>\n      <th>2.0</th>\n      <td>2317</td>\n      <td>30545</td>\n      <td>0.075855</td>\n    </tr>\n    <tr>\n      <th>3.0</th>\n      <td>838</td>\n      <td>10860</td>\n      <td>0.077164</td>\n    </tr>\n    <tr>\n      <th>4.0</th>\n      <td>348</td>\n      <td>4859</td>\n      <td>0.071620</td>\n    </tr>\n  </tbody>\n</table>\n</div>"
          },
          "metadata": {}
        }
      ]
    },
    {
      "metadata": {
        "trusted": true,
        "_uuid": "bffdeca51034277c90a73b723ec7422dbdae5e7d"
      },
      "cell_type": "code",
      "source": "temp[\"delinq\"] = temp.index\nplt.figure(figsize=(14,6))\nsns.barplot(x='delinq', y=\"ratio\", data=temp)\nplt.ylabel('Ratio of defaulters to non-defaulters', fontsize=12)\nplt.xlabel('delinq_2yrs', fontsize=12)\nplt.show()",
      "execution_count": 82,
      "outputs": [
        {
          "output_type": "display_data",
          "data": {
            "text/plain": "<Figure size 1008x432 with 1 Axes>",
            "image/png": "[encoded data removed]"
          },
          "metadata": {}
        }
      ]
    },
    {
      "metadata": {
        "trusted": true,
        "_uuid": "b1140e05cf11448e3bb331ef1fc75248bc55c898"
      },
      "cell_type": "code",
      "source": "to_remove.append(\"delinq_2yrs\")",
      "execution_count": 83,
      "outputs": []
    },
    {
      "metadata": {
        "_uuid": "fe7dc2e06b000ec46411c633b868f81d1a394563"
      },
      "cell_type": "markdown",
      "source": "The probability of a defaulter conditioned on the delinq_2yrs value is almost same as just the probability of a defaulter suggesting that the gain is less. Wherever the probability is high the number of instances are extremely low i.e. around 1-10"
    },
    {
      "metadata": {
        "_uuid": "ad21dab318b2c0f2cc9843d45d247dad1df534fe"
      },
      "cell_type": "markdown",
      "source": "## emp_title"
    },
    {
      "metadata": {
        "trusted": true,
        "_uuid": "0ae6eef0bad56dc7897e2e0f1ec6e069fb9feeb0"
      },
      "cell_type": "code",
      "source": "len(data.emp_title.unique())",
      "execution_count": 84,
      "outputs": [
        {
          "output_type": "execute_result",
          "execution_count": 84,
          "data": {
            "text/plain": "295931"
          },
          "metadata": {}
        }
      ]
    },
    {
      "metadata": {
        "trusted": true,
        "_uuid": "c5293373edbf7bc475c5fb8bddb8dba848a5c0d6"
      },
      "cell_type": "code",
      "source": "data.emp_title.value_counts()",
      "execution_count": 85,
      "outputs": [
        {
          "output_type": "execute_result",
          "execution_count": 85,
          "data": {
            "text/plain": "Teacher                                     13158\nManager                                     11011\nRegistered Nurse                             5421\nRN                                           5261\nOwner                                        5243\nSupervisor                                   4885\nSales                                        4132\nProject Manager                              3918\nDriver                                       3498\nOffice Manager                               3465\nGeneral Manager                              3117\nDirector                                     3107\nmanager                                      3074\nteacher                                      2876\nowner                                        2778\nEngineer                                     2619\nPresident                                    2524\ndriver                                       2382\nVice President                               2304\nAttorney                                     2103\nOperations Manager                           2027\nAccountant                                   2003\nAdministrative Assistant                     1982\nSales Manager                                1814\nAccount Manager                              1692\nPolice Officer                               1691\nsales                                        1689\nsupervisor                                   1649\nExecutive Assistant                          1574\nAnalyst                                      1510\n                                            ...  \nAmbulatory paramedic                            1\nHollyfrontier oil                               1\nMang.                                           1\nPolice Administrative Associate                 1\nPostal worker                                   1\nAmeronox Inc                                    1\nFIRST LINE SUPERVISOR                           1\nFire specialist                                 1\nSecretary/Teacher                               1\nHolsum Bakery of Tolleson, LLC                  1\nCrew Lead / International Project Coord.        1\nworldpac                                        1\nProgram Specialist/Training Specialist          1\nreceptionist/clerk                              1\nLVNII                                           1\nForeman B                                       1\nCertified Behavioral Health Technician          1\nwhemco steel casting inc                        1\ncash application rep                            1\nInventory Selector                              1\nChief - Policy Branch                           1\nOR Staff RN                                     1\nBrown & Tarantino                               1\nHarrys Famous Flowers                           1\nsectatary                                       1\nAegis Sciences                                  1\nJJ Peters Veterans Affairs Center               1\ntrees inc.                                      1\nProcess eng technician                          1\nSr. Mgr Talent Management                       1\nName: emp_title, Length: 295930, dtype: int64"
          },
          "metadata": {}
        }
      ]
    },
    {
      "metadata": {
        "trusted": true,
        "_uuid": "0d547e7ec9436f4143a4d4b20811a3075059b7ca"
      },
      "cell_type": "code",
      "source": "data[data.emp_title.isna()].defaulter.value_counts()",
      "execution_count": 86,
      "outputs": [
        {
          "output_type": "execute_result",
          "execution_count": 86,
          "data": {
            "text/plain": " 1    46029\n-1     4520\nName: defaulter, dtype: int64"
          },
          "metadata": {}
        }
      ]
    },
    {
      "metadata": {
        "_uuid": "010bb30305a83d02bdcd07e32f6aa2fe2db96200"
      },
      "cell_type": "markdown",
      "source": "The null rows can't be dropped due to high number of defaulters. But the column logically contributes to the final output."
    },
    {
      "metadata": {
        "_uuid": "f8c486cc910b24ef98e8b931a05bffa29e9eb58c"
      },
      "cell_type": "markdown",
      "source": "## purpose"
    },
    {
      "metadata": {
        "trusted": true,
        "_uuid": "9964dba4e00ab4ac4dabfddd311aca6c8da65ebe"
      },
      "cell_type": "code",
      "source": "data.purpose.value_counts()",
      "execution_count": 87,
      "outputs": [
        {
          "output_type": "execute_result",
          "execution_count": 87,
          "data": {
            "text/plain": "debt_consolidation    515421\ncredit_card           202961\nhome_improvement       50969\nother                  42100\nmajor_purchase         16968\nsmall_business         10186\ncar                     8742\nmedical                 8393\nmoving                  5319\nvacation                4642\nhouse                   3633\nwedding                 2344\nrenewable_energy         561\neducational              423\nName: purpose, dtype: int64"
          },
          "metadata": {}
        }
      ]
    },
    {
      "metadata": {
        "trusted": true,
        "_uuid": "105fea594c52e07cf065721fab522644f867b6aa"
      },
      "cell_type": "code",
      "source": "data.groupby('purpose').defaulter.value_counts()",
      "execution_count": 88,
      "outputs": [
        {
          "output_type": "execute_result",
          "execution_count": 88,
          "data": {
            "text/plain": "purpose             defaulter\ncar                  1             8186\n                    -1              556\ncredit_card          1           192356\n                    -1            10605\ndebt_consolidation   1           477811\n                    -1            37610\neducational          1              335\n                    -1               88\nhome_improvement     1            47783\n                    -1             3186\nhouse                1             3253\n                    -1              380\nmajor_purchase       1            15799\n                    -1             1169\nmedical              1             7645\n                    -1              748\nmoving               1             4755\n                    -1              564\nother                1            38247\n                    -1             3853\nrenewable_energy     1              497\n                    -1               64\nsmall_business       1             8484\n                    -1             1702\nvacation             1             4277\n                    -1              365\nwedding              1             2058\n                    -1              286\nName: defaulter, dtype: int64"
          },
          "metadata": {}
        }
      ]
    },
    {
      "metadata": {
        "trusted": true,
        "_uuid": "3cd230787ea29869492e93b15b18db5739ab9bdb"
      },
      "cell_type": "code",
      "source": "temp = pd.crosstab(data.purpose, data.defaulter)\ntemp[\"ratio\"] = temp.apply(lambda x: (x[-1]/x[1]), axis=1)\ntemp[\"purpose\"] = temp.index\ntemp.head()",
      "execution_count": 89,
      "outputs": [
        {
          "output_type": "execute_result",
          "execution_count": 89,
          "data": {
            "text/plain": "defaulter              -1         ...                     purpose\npurpose                           ...                            \ncar                   556         ...                         car\ncredit_card         10605         ...                 credit_card\ndebt_consolidation  37610         ...          debt_consolidation\neducational            88         ...                 educational\nhome_improvement     3186         ...            home_improvement\n\n[5 rows x 4 columns]",
            "text/html": "<div>\n<style scoped>\n    .dataframe tbody tr th:only-of-type {\n        vertical-align: middle;\n    }\n\n    .dataframe tbody tr th {\n        vertical-align: top;\n    }\n\n    .dataframe thead th {\n        text-align: right;\n    }\n</style>\n<table border=\"1\" class=\"dataframe\">\n  <thead>\n    <tr style=\"text-align: right;\">\n      <th>defaulter</th>\n      <th>-1</th>\n      <th>1</th>\n      <th>ratio</th>\n      <th>purpose</th>\n    </tr>\n    <tr>\n      <th>purpose</th>\n      <th></th>\n      <th></th>\n      <th></th>\n      <th></th>\n    </tr>\n  </thead>\n  <tbody>\n    <tr>\n      <th>car</th>\n      <td>556</td>\n      <td>8186</td>\n      <td>0.067921</td>\n      <td>car</td>\n    </tr>\n    <tr>\n      <th>credit_card</th>\n      <td>10605</td>\n      <td>192356</td>\n      <td>0.055132</td>\n      <td>credit_card</td>\n    </tr>\n    <tr>\n      <th>debt_consolidation</th>\n      <td>37610</td>\n      <td>477811</td>\n      <td>0.078713</td>\n      <td>debt_consolidation</td>\n    </tr>\n    <tr>\n      <th>educational</th>\n      <td>88</td>\n      <td>335</td>\n      <td>0.262687</td>\n      <td>educational</td>\n    </tr>\n    <tr>\n      <th>home_improvement</th>\n      <td>3186</td>\n      <td>47783</td>\n      <td>0.066676</td>\n      <td>home_improvement</td>\n    </tr>\n  </tbody>\n</table>\n</div>"
          },
          "metadata": {}
        }
      ]
    },
    {
      "metadata": {
        "trusted": true,
        "_uuid": "b2d6db3ef4cab9450d865bcf1e16d8cbd715f579"
      },
      "cell_type": "code",
      "source": "plt.figure(figsize=(16,6))\nsns.barplot(x='purpose', y=\"ratio\", data=temp, order=temp.sort_values(\"ratio\").purpose.values)\nplt.ylabel('Ratio of defaulters to non-defaulters', fontsize=12)\nplt.xlabel('purpose', fontsize=12)\nplt.show()",
      "execution_count": 90,
      "outputs": [
        {
          "output_type": "display_data",
          "data": {
            "text/plain": "<Figure size 1152x432 with 1 Axes>",
            "image/png": "[encoded data removed]"
          },
          "metadata": {}
        }
      ]
    },
    {
      "metadata": {
        "_uuid": "ca4137b55fad9554019c53051ab23c8214c48dc0"
      },
      "cell_type": "markdown",
      "source": "The ratio of defaulters conditioned on the purpose value is quite high which indicates that this is a good column."
    },
    {
      "metadata": {
        "_uuid": "082b8d009e9714cf46dbb709e71479419c9740f2"
      },
      "cell_type": "markdown",
      "source": "## revol_bal"
    },
    {
      "metadata": {
        "trusted": true,
        "_uuid": "62acc9813d9ed845363df09f00b97bf28f9ebb83"
      },
      "cell_type": "code",
      "source": "plt.figure(figsize=(8,4))\nsns.violinplot(\"revol_bal\", data=data) # We use \nplt.show()",
      "execution_count": 91,
      "outputs": [
        {
          "output_type": "stream",
          "text": "/opt/conda/lib/python3.6/site-packages/scipy/stats/stats.py:1713: FutureWarning: Using a non-tuple sequence for multidimensional indexing is deprecated; use `arr[tuple(seq)]` instead of `arr[seq]`. In the future this will be interpreted as an array index, `arr[np.array(seq)]`, which will result either in an error or a different result.\n  return np.add.reduce(sorted[indexer] * weights, axis=axis) / sumval\n",
          "name": "stderr"
        },
        {
          "output_type": "display_data",
          "data": {
            "text/plain": "<Figure size 576x288 with 1 Axes>",
            "image/png": "[encoded data removed]"
          },
          "metadata": {}
        }
      ]
    },
    {
      "metadata": {
        "trusted": true,
        "_uuid": "16f8490fa9512072b869a73f592b1736fb7159cc"
      },
      "cell_type": "code",
      "source": "data.revol_bal.describe()",
      "execution_count": 92,
      "outputs": [
        {
          "output_type": "execute_result",
          "execution_count": 92,
          "data": {
            "text/plain": "count    8.726620e+05\nmean     1.692038e+04\nstd      2.243014e+04\nmin      0.000000e+00\n25%      6.449000e+03\n50%      1.187900e+04\n75%      2.083200e+04\nmax      2.904836e+06\nName: revol_bal, dtype: float64"
          },
          "metadata": {}
        }
      ]
    },
    {
      "metadata": {
        "trusted": true,
        "_uuid": "0232e0d104072d0d4064182c079ae244b32f7cfd"
      },
      "cell_type": "code",
      "source": "data.groupby(\"defaulter\").revol_bal.mean()",
      "execution_count": 93,
      "outputs": [
        {
          "output_type": "execute_result",
          "execution_count": 93,
          "data": {
            "text/plain": "defaulter\n-1    15250.714169\n 1    17046.248035\nName: revol_bal, dtype: float64"
          },
          "metadata": {}
        }
      ]
    },
    {
      "metadata": {
        "trusted": true,
        "_uuid": "41700f6b848110600164b5fde9b7e6d0f3c1215f"
      },
      "cell_type": "code",
      "source": "data.groupby(\"defaulter\").revol_bal.std()",
      "execution_count": 94,
      "outputs": [
        {
          "output_type": "execute_result",
          "execution_count": 94,
          "data": {
            "text/plain": "defaulter\n-1    19671.465599\n 1    22619.489624\nName: revol_bal, dtype: float64"
          },
          "metadata": {}
        }
      ]
    },
    {
      "metadata": {
        "trusted": true,
        "_uuid": "7bbebc35f84e837dc765cd32a33b08b15a177e03"
      },
      "cell_type": "code",
      "source": "plt.figure(figsize=(8,4))\nsns.violinplot(y=\"revol_bal\", x=\"defaulter\", data=data[data.revol_bal < 50000]) # We remove outliers in the plot\nplt.show()",
      "execution_count": 95,
      "outputs": [
        {
          "output_type": "stream",
          "text": "/opt/conda/lib/python3.6/site-packages/scipy/stats/stats.py:1713: FutureWarning: Using a non-tuple sequence for multidimensional indexing is deprecated; use `arr[tuple(seq)]` instead of `arr[seq]`. In the future this will be interpreted as an array index, `arr[np.array(seq)]`, which will result either in an error or a different result.\n  return np.add.reduce(sorted[indexer] * weights, axis=axis) / sumval\n",
          "name": "stderr"
        },
        {
          "output_type": "display_data",
          "data": {
            "text/plain": "<Figure size 576x288 with 1 Axes>",
            "image/png": "[encoded data removed]"
          },
          "metadata": {}
        }
      ]
    },
    {
      "metadata": {
        "trusted": true,
        "_uuid": "db8b87e8163e26766375b91f75ab74b83cd117f9"
      },
      "cell_type": "code",
      "source": "to_remove.append(\"revol_bal\")",
      "execution_count": 96,
      "outputs": []
    },
    {
      "metadata": {
        "_uuid": "284858cc7ad9423854dab3d7d93068c21a750853"
      },
      "cell_type": "markdown",
      "source": "There doesn't seem to be any difference in the distribution. This feature doesn't seem too useful."
    },
    {
      "metadata": {
        "_uuid": "b2d0ee39af010a1804c4ff0bb59801fc808c6431"
      },
      "cell_type": "markdown",
      "source": "# Short Summary"
    },
    {
      "metadata": {
        "trusted": true,
        "_uuid": "3188d8ada2221e23cc348e85cdd88d3eba5ce2ad"
      },
      "cell_type": "code",
      "source": "to_remove.append(\"loan_status\")\nprint(to_remove)",
      "execution_count": 97,
      "outputs": [
        {
          "output_type": "stream",
          "text": "['collections_12_mths_ex_med', 'funded_amnt', 'policy_code', 'pub_rec', 'pymnt_plan', 'revol_util', 'application_type', 'delinq_2yrs', 'revol_bal', 'loan_status']\n",
          "name": "stdout"
        }
      ]
    },
    {
      "metadata": {
        "trusted": true,
        "_uuid": "ec75ac65f4c377f7556a1d49b5931e9a85a8f3cb"
      },
      "cell_type": "code",
      "source": "data.isna().sum()",
      "execution_count": 98,
      "outputs": [
        {
          "output_type": "execute_result",
          "execution_count": 98,
          "data": {
            "text/plain": "id                                0\nloan_amnt                         0\nfunded_amnt                       0\nterm                              0\nint_rate                          0\ninstallment                       0\ngrade                             0\nsub_grade                         0\nemp_title                     50549\nemp_length                    43956\nhome_ownership                    0\nannual_inc                        0\nverification_status               0\nloan_status                       0\npymnt_plan                        0\npurpose                           0\nzip_code                          0\naddr_state                        0\ndti                               0\ndelinq_2yrs                      25\nopen_acc                         25\npub_rec                          25\nrevol_bal                         0\nrevol_util                      493\ntotal_acc                        25\ninitial_list_status               0\nout_prncp                         0\ncollections_12_mths_ex_med      141\npolicy_code                       0\napplication_type                  0\nacc_now_delinq                   25\ntot_coll_amt                  70206\ntot_cur_bal                   70206\ntotal_rev_hi_lim              70206\ndefaulter                         0\ndtype: int64"
          },
          "metadata": {}
        }
      ]
    },
    {
      "metadata": {
        "trusted": true,
        "_uuid": "15dbdd6cd9635b166a29c8f66f6114aca9f77604"
      },
      "cell_type": "code",
      "source": "y = len(data[data.defaulter == -1])\n\ndef defaulter_in_null(df, attr):\n    temp = df[df[attr].isna()]\n    x = len(temp[df.defaulter == -1])\n    return (x, x/len(temp), x/y)\n    \nattrs = [\n    \"total_rev_hi_lim\",\n    \"tot_cur_bal\",\n    \"tot_coll_amt\",\n    \"acc_now_delinq\",\n    \"collections_12_mths_ex_med\",\n    \"total_acc\",\n    \"revol_util\",\n    \"pub_rec\",\n    \"open_acc\",\n    \"delinq_2yrs\",\n    \"emp_length\",\n    \"emp_title\"\n]\n\nfor i in attrs:\n    print(defaulter_in_null(data, i))",
      "execution_count": 99,
      "outputs": [
        {
          "output_type": "stream",
          "text": "/opt/conda/lib/python3.6/site-packages/ipykernel_launcher.py:5: UserWarning: Boolean Series key will be reindexed to match DataFrame index.\n  \"\"\"\n/opt/conda/lib/python3.6/site-packages/ipykernel_launcher.py:5: UserWarning: Boolean Series key will be reindexed to match DataFrame index.\n  \"\"\"\n/opt/conda/lib/python3.6/site-packages/ipykernel_launcher.py:5: UserWarning: Boolean Series key will be reindexed to match DataFrame index.\n  \"\"\"\n/opt/conda/lib/python3.6/site-packages/ipykernel_launcher.py:5: UserWarning: Boolean Series key will be reindexed to match DataFrame index.\n  \"\"\"\n/opt/conda/lib/python3.6/site-packages/ipykernel_launcher.py:5: UserWarning: Boolean Series key will be reindexed to match DataFrame index.\n  \"\"\"\n/opt/conda/lib/python3.6/site-packages/ipykernel_launcher.py:5: UserWarning: Boolean Series key will be reindexed to match DataFrame index.\n  \"\"\"\n/opt/conda/lib/python3.6/site-packages/ipykernel_launcher.py:5: UserWarning: Boolean Series key will be reindexed to match DataFrame index.\n  \"\"\"\n/opt/conda/lib/python3.6/site-packages/ipykernel_launcher.py:5: UserWarning: Boolean Series key will be reindexed to match DataFrame index.\n  \"\"\"\n/opt/conda/lib/python3.6/site-packages/ipykernel_launcher.py:5: UserWarning: Boolean Series key will be reindexed to match DataFrame index.\n  \"\"\"\n/opt/conda/lib/python3.6/site-packages/ipykernel_launcher.py:5: UserWarning: Boolean Series key will be reindexed to match DataFrame index.\n  \"\"\"\n/opt/conda/lib/python3.6/site-packages/ipykernel_launcher.py:5: UserWarning: Boolean Series key will be reindexed to match DataFrame index.\n  \"\"\"\n",
          "name": "stderr"
        },
        {
          "output_type": "stream",
          "text": "(10946, 0.1559126000626727, 0.17892637635674122)\n(10946, 0.1559126000626727, 0.17892637635674122)\n(10946, 0.1559126000626727, 0.17892637635674122)\n(3, 0.12, 4.9038838760298155e-05)\n(28, 0.19858156028368795, 0.00045769582842944943)\n(3, 0.12, 4.9038838760298155e-05)\n(65, 0.13184584178498987, 0.0010625081731397933)\n(3, 0.12, 4.9038838760298155e-05)\n(3, 0.12, 4.9038838760298155e-05)\n(3, 0.12, 4.9038838760298155e-05)\n(3472, 0.07898807898807898, 0.05675428272525173)\n(4520, 0.08941818829254783, 0.07388518373218256)\n",
          "name": "stdout"
        },
        {
          "output_type": "stream",
          "text": "/opt/conda/lib/python3.6/site-packages/ipykernel_launcher.py:5: UserWarning: Boolean Series key will be reindexed to match DataFrame index.\n  \"\"\"\n",
          "name": "stderr"
        }
      ]
    },
    {
      "metadata": {
        "_uuid": "6f9b679e5625e493feada13fc37ab77e6e1f740a"
      },
      "cell_type": "markdown",
      "source": "We'll need to handle these null values in a proper way."
    },
    {
      "metadata": {
        "_uuid": "cf7910f3e7f3224ae054f746887323d83ace84f3"
      },
      "cell_type": "markdown",
      "source": "## term"
    },
    {
      "metadata": {
        "trusted": true,
        "_uuid": "adc8afb68b7f385322ee7b7867c579728a39c8a1"
      },
      "cell_type": "code",
      "source": "data.term = data.term.apply(lambda x: int(re.search(r'\\d+', x).group()))",
      "execution_count": 100,
      "outputs": []
    },
    {
      "metadata": {
        "trusted": true,
        "_uuid": "ee5e454ddaeed41dd5a441a496941b3c988ec1f7"
      },
      "cell_type": "code",
      "source": "data.groupby(\"term\").defaulter.value_counts()",
      "execution_count": 101,
      "outputs": [
        {
          "output_type": "execute_result",
          "execution_count": 101,
          "data": {
            "text/plain": "term  defaulter\n36     1           572208\n      -1            38956\n60     1           239278\n      -1            22220\nName: defaulter, dtype: int64"
          },
          "metadata": {}
        }
      ]
    },
    {
      "metadata": {
        "_uuid": "a8fb40f6183f3e0f497be2dbc02d389b92e12f46"
      },
      "cell_type": "markdown",
      "source": "Once again there doesn't seem to be an increase in the probability of a defaulter conditioned on the value of *term*."
    },
    {
      "metadata": {
        "_uuid": "ec7159799e65895a003fa4a57c702e9d37d783e6"
      },
      "cell_type": "markdown",
      "source": "## verification_status"
    },
    {
      "metadata": {
        "trusted": true,
        "_uuid": "2dca9a90d7fd7fc3f314ca2c3acfb1b930412261"
      },
      "cell_type": "code",
      "source": "data.groupby(\"verification_status\").defaulter.value_counts()",
      "execution_count": 102,
      "outputs": [
        {
          "output_type": "execute_result",
          "execution_count": 102,
          "data": {
            "text/plain": "verification_status  defaulter\nNot Verified          1           246573\n                     -1            15991\nSource Verified       1           304184\n                     -1            20015\nVerified              1           260729\n                     -1            25170\nName: defaulter, dtype: int64"
          },
          "metadata": {}
        }
      ]
    },
    {
      "metadata": {
        "trusted": true,
        "_uuid": "cc61abd5b001a6ad88552007c087f41e3fac6959"
      },
      "cell_type": "code",
      "source": "data.emp_length.unique()",
      "execution_count": 103,
      "outputs": [
        {
          "output_type": "execute_result",
          "execution_count": 103,
          "data": {
            "text/plain": "array(['10+ years', '< 1 year', '1 year', '3 years', '8 years', '9 years',\n       '4 years', '5 years', '6 years', '2 years', '7 years', nan],\n      dtype=object)"
          },
          "metadata": {}
        }
      ]
    },
    {
      "metadata": {
        "trusted": true,
        "_uuid": "ef1d6a64306c02f4ca9096953a496bee90e78ced"
      },
      "cell_type": "code",
      "source": "temp = pd.crosstab(data.verification_status, data.defaulter)\ntemp[\"ratio\"] = temp.apply(lambda x: (x[-1]/x[1]), axis=1)\ntemp[\"vf\"] = temp.index\ntemp.head()",
      "execution_count": 104,
      "outputs": [
        {
          "output_type": "execute_result",
          "execution_count": 104,
          "data": {
            "text/plain": "defaulter               -1       1     ratio               vf\nverification_status                                          \nNot Verified         15991  246573  0.064853     Not Verified\nSource Verified      20015  304184  0.065799  Source Verified\nVerified             25170  260729  0.096537         Verified",
            "text/html": "<div>\n<style scoped>\n    .dataframe tbody tr th:only-of-type {\n        vertical-align: middle;\n    }\n\n    .dataframe tbody tr th {\n        vertical-align: top;\n    }\n\n    .dataframe thead th {\n        text-align: right;\n    }\n</style>\n<table border=\"1\" class=\"dataframe\">\n  <thead>\n    <tr style=\"text-align: right;\">\n      <th>defaulter</th>\n      <th>-1</th>\n      <th>1</th>\n      <th>ratio</th>\n      <th>vf</th>\n    </tr>\n    <tr>\n      <th>verification_status</th>\n      <th></th>\n      <th></th>\n      <th></th>\n      <th></th>\n    </tr>\n  </thead>\n  <tbody>\n    <tr>\n      <th>Not Verified</th>\n      <td>15991</td>\n      <td>246573</td>\n      <td>0.064853</td>\n      <td>Not Verified</td>\n    </tr>\n    <tr>\n      <th>Source Verified</th>\n      <td>20015</td>\n      <td>304184</td>\n      <td>0.065799</td>\n      <td>Source Verified</td>\n    </tr>\n    <tr>\n      <th>Verified</th>\n      <td>25170</td>\n      <td>260729</td>\n      <td>0.096537</td>\n      <td>Verified</td>\n    </tr>\n  </tbody>\n</table>\n</div>"
          },
          "metadata": {}
        }
      ]
    },
    {
      "metadata": {
        "trusted": true,
        "_uuid": "a0817c67ef29f1ab0d00376136b40b3331715ffe"
      },
      "cell_type": "code",
      "source": "plt.figure(figsize=(16,6))\nsns.barplot(x='vf', y=\"ratio\", data=temp, order=temp.sort_values(\"ratio\").vf.values)\nplt.ylabel('Ratio of defaulters to non-defaulters', fontsize=12)\nplt.xlabel('Verification Status', fontsize=12)\nplt.show()",
      "execution_count": 105,
      "outputs": [
        {
          "output_type": "display_data",
          "data": {
            "text/plain": "<Figure size 1152x432 with 1 Axes>",
            "image/png": "[encoded data removed]"
          },
          "metadata": {}
        }
      ]
    },
    {
      "metadata": {
        "_uuid": "0ff8dc79102d6047223b65b1c4eaeca430b4fe26"
      },
      "cell_type": "markdown",
      "source": "Considering that the ratio of defaulters to non-defaulters is 0.7 we don't gain much information by conditioning on verification_status."
    },
    {
      "metadata": {
        "_uuid": "6a35624c32743f21240a753c4f02bb1b1a7df20f"
      },
      "cell_type": "markdown",
      "source": "# Train Test Split"
    },
    {
      "metadata": {
        "trusted": true,
        "_uuid": "f53a789faaa1e90d51497040b338a1bcfbc9b288"
      },
      "cell_type": "code",
      "source": "train, test = sklearn.model_selection.train_test_split(data, random_state=100, shuffle=True, test_size=0.3)",
      "execution_count": 106,
      "outputs": []
    },
    {
      "metadata": {
        "trusted": true,
        "_uuid": "6c4a887dd56a199cc1d6a9e0350b23a0327a1a4d"
      },
      "cell_type": "code",
      "source": "print(\"Train:\", train.shape)\nprint(\"Test:\", test.shape)",
      "execution_count": 107,
      "outputs": [
        {
          "output_type": "stream",
          "text": "Train: (610863, 35)\nTest: (261799, 35)\n",
          "name": "stdout"
        }
      ]
    },
    {
      "metadata": {
        "trusted": true,
        "_uuid": "4932dcb0c50216149da75031fed1cec22fc65d9a"
      },
      "cell_type": "code",
      "source": "print(\"Train Defaulters:\", len(train[train.defaulter == -1]))\nprint(\"Test Defaulters:\", len(test[test.defaulter == -1]))",
      "execution_count": 108,
      "outputs": [
        {
          "output_type": "stream",
          "text": "Train Defaulters: 42745\nTest Defaulters: 18431\n",
          "name": "stdout"
        }
      ]
    },
    {
      "metadata": {
        "trusted": true,
        "_uuid": "7a7c422db87b192527918a36a7af69d071f1f142"
      },
      "cell_type": "code",
      "source": "train.to_csv(\"train.csv\")\ntest.to_csv(\"test.csv\")",
      "execution_count": null,
      "outputs": []
    }
  ],
  "metadata": {
    "kernelspec": {
      "display_name": "Python 3",
      "language": "python",
      "name": "python3"
    },
    "language_info": {
      "name": "python",
      "version": "3.6.6",
      "mimetype": "text/x-python",
      "codemirror_mode": {
        "name": "ipython",
        "version": 3
      },
      "pygments_lexer": "ipython3",
      "nbconvert_exporter": "python",
      "file_extension": ".py"
    }
  },
  "nbformat": 4,
  "nbformat_minor": 1
}