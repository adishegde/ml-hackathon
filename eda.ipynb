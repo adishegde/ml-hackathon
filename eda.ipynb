{
  "cells": [
    {
      "metadata": {
        "_uuid": "8f2839f25d086af736a60e9eeb907d3b93b6e0e5",
        "_cell_guid": "b1076dfc-b9ad-4769-8c92-a6c4dae69d19",
        "trusted": true
      },
      "cell_type": "code",
      "source": "import numpy as np\nimport pandas as pd\nimport matplotlib.pyplot as plt\nimport seaborn as sns\nimport nltk\nimport re\nimport sklearn\n\n%matplotlib inline",
      "execution_count": null,
      "outputs": []
    },
    {
      "metadata": {
        "_cell_guid": "79c7e3d0-c299-4dcb-8224-4455121ee9b0",
        "_uuid": "d629ff2d2480ee46fbb7e2d37f6b5fab8052498a",
        "trusted": true
      },
      "cell_type": "code",
      "source": "data = pd.read_csv(\"../input/loan.csv\")\ndata.head(10)",
      "execution_count": null,
      "outputs": []
    },
    {
      "metadata": {
        "trusted": true,
        "_uuid": "54ebdb9f98f78721e4996b1476ce3829a943e726"
      },
      "cell_type": "code",
      "source": "data.shape",
      "execution_count": null,
      "outputs": []
    },
    {
      "metadata": {
        "trusted": true,
        "_uuid": "241932019adc8f0607f1faacf858708a5588362a"
      },
      "cell_type": "code",
      "source": "data.columns.sort_values()",
      "execution_count": null,
      "outputs": []
    },
    {
      "metadata": {
        "_uuid": "8a37996465a81d2265c541a371a791e745005d9a"
      },
      "cell_type": "markdown",
      "source": "# Analysis of loan status"
    },
    {
      "metadata": {
        "trusted": true,
        "_uuid": "b04b62ce99774c9d6908a97a1a31a413d26d5d64"
      },
      "cell_type": "code",
      "source": "data.loan_status.unique()",
      "execution_count": null,
      "outputs": []
    },
    {
      "metadata": {
        "trusted": true,
        "_uuid": "f8162612ea05763ee00354810abea8a253f1fc4a"
      },
      "cell_type": "code",
      "source": "data.loan_status.value_counts()",
      "execution_count": null,
      "outputs": []
    },
    {
      "metadata": {
        "_uuid": "87c141e705159e1ec881e455cd154fef53e41e8d"
      },
      "cell_type": "markdown",
      "source": "*Issued* is not related to our predictions since it does not talk about fradulent behaviour. Similarly *In Grace Period* does not give information about fradulent behaviour since we don't know the future outcome."
    },
    {
      "metadata": {
        "trusted": true,
        "_uuid": "725236dfb5bc5d9b899eef83b2debc891f5f36df"
      },
      "cell_type": "code",
      "source": "# DF Transformed\ndata = data[~data.loan_status.isin([\"Issued\", \"In Grace Period\"])]",
      "execution_count": null,
      "outputs": []
    },
    {
      "metadata": {
        "trusted": true,
        "_uuid": "7c99989eb420d52a6288c76893e0b08c45533c4c"
      },
      "cell_type": "code",
      "source": "data.loan_status.value_counts()",
      "execution_count": null,
      "outputs": []
    },
    {
      "metadata": {
        "trusted": true,
        "_uuid": "a407308dd678f98242df09bc415d22e15a63af65"
      },
      "cell_type": "code",
      "source": "data.shape",
      "execution_count": null,
      "outputs": []
    },
    {
      "metadata": {
        "trusted": true,
        "_uuid": "922d21a945880f51a4faa2f15b33e325909f7dc4"
      },
      "cell_type": "code",
      "source": "bad_status = [\"Charged Off\", \"Default\", \"Late (31-120 days)\", \"Late (16-30 days)\", \"Does not meet the credit policy. Status:Charged Off\"]\ngood_status = [\"Fully Paid\", \"Current\", \"Does not meet the credit policy. Status:Fully Paid\"]",
      "execution_count": null,
      "outputs": []
    },
    {
      "metadata": {
        "trusted": true,
        "_uuid": "16d16e6c84ea37d4c565a5a18b4fec3c2cba954b"
      },
      "cell_type": "code",
      "source": "data[\"defaulter\"] = data.loan_status.apply(lambda x: 1 if x in good_status else -1)\ndata.head()",
      "execution_count": null,
      "outputs": []
    },
    {
      "metadata": {
        "trusted": true,
        "_uuid": "e754fe0f056ca0706ecc72284a2f35bc5e05c942"
      },
      "cell_type": "code",
      "source": "data.defaulter.value_counts()",
      "execution_count": null,
      "outputs": []
    },
    {
      "metadata": {
        "_uuid": "1712207daa4135671e7f2169a26c49f5ea4d4ae6"
      },
      "cell_type": "markdown",
      "source": "We have thus converted loan_status into a label called *defaulter* which we wish to predict. We have dropped *Issued* and *In Grace Period* for the reasons mentioned above."
    },
    {
      "metadata": {
        "_uuid": "0a6f5552d149290946283a946397bc6e3de87522"
      },
      "cell_type": "markdown",
      "source": "# Filtering columns"
    },
    {
      "metadata": {
        "_uuid": "5d8f91a53336bdca33aefbab7e156616c81ba9db"
      },
      "cell_type": "markdown",
      "source": "The dataset contains a large number of columns, not all of which might be relevant. We try and remove certain columns that we feel does not contribute in any way to the predictions. The column descriptions are given in the data dictionary."
    },
    {
      "metadata": {
        "trusted": true,
        "_uuid": "8c0bc47a7c08d4421597d8f7fb334066e3423ff3"
      },
      "cell_type": "code",
      "source": "data.annual_inc.isna().sum()",
      "execution_count": null,
      "outputs": []
    },
    {
      "metadata": {
        "trusted": true,
        "_uuid": "55e8e4c3987132c5aeb8528e5bea627cce0a0828"
      },
      "cell_type": "code",
      "source": "data[data.annual_inc.isna()][[\"annual_inc\", \"annual_inc_joint\", \"defaulter\"]]",
      "execution_count": null,
      "outputs": []
    },
    {
      "metadata": {
        "trusted": true,
        "_uuid": "ecf3ae2e09d3326975681ce5eb40e459a1c14a91"
      },
      "cell_type": "code",
      "source": "# DF Transformed\ntemp = data.shape[0]\ndata = data[data.annual_inc.notnull()]\nprint(\"Dropped:\", temp - data.shape[0])",
      "execution_count": null,
      "outputs": []
    },
    {
      "metadata": {
        "trusted": true,
        "_uuid": "0c7150096785d4ac1c90a208f24e00c9795e56a4"
      },
      "cell_type": "code",
      "source": "num_inc_joint_na = data.annual_inc_joint.isna().sum()\nnum_inc_joint_na",
      "execution_count": null,
      "outputs": []
    },
    {
      "metadata": {
        "trusted": true,
        "_uuid": "628c627475fd6af7fa39211e9beae58b37ce07e7"
      },
      "cell_type": "code",
      "source": "inc_df = data[data.annual_inc_joint.notnull()][[\"annual_inc\", \"annual_inc_joint\", \"defaulter\"]]\ninc_df[\"joint_diff\"] =  inc_df.annual_inc_joint - inc_df.annual_inc\ninc_df.head(10)",
      "execution_count": null,
      "outputs": []
    },
    {
      "metadata": {
        "trusted": true,
        "_uuid": "4e6426b7cd0eb28efabc31319ec0f8fd3f9a54f3"
      },
      "cell_type": "code",
      "source": "inc_df.joint_diff.describe()",
      "execution_count": null,
      "outputs": []
    },
    {
      "metadata": {
        "trusted": true,
        "_uuid": "016194fcce9882d43f0f5ea801559a59c83a3c0e"
      },
      "cell_type": "code",
      "source": "data.shape[0] - num_inc_joint_na",
      "execution_count": null,
      "outputs": []
    },
    {
      "metadata": {
        "trusted": true,
        "_uuid": "3d5a468bf7bc8845ed9fccfd56ad4df0dfac9006"
      },
      "cell_type": "code",
      "source": "inc_df.groupby(\"defaulter\").joint_diff.count()",
      "execution_count": null,
      "outputs": []
    },
    {
      "metadata": {
        "_uuid": "ec00d42d8c1b5b8b3d42ef8a2c4ebdfbe140e6df"
      },
      "cell_type": "markdown",
      "source": "Therefore *annual_inc_joint* is available only for 511 rows. Every row that contains *annual_inc_joint*  also contains *annual_inc* and the values differ significantly. Moreover only 2 cases are defaulters. It makes sense to drop the column due to its occurence and contribution to our predictions."
    },
    {
      "metadata": {
        "trusted": true,
        "_uuid": "b72c5d9bfb534c71a35b829003e860de6a5fb131"
      },
      "cell_type": "code",
      "source": "data.count().sort_values()",
      "execution_count": null,
      "outputs": []
    },
    {
      "metadata": {
        "trusted": true,
        "_uuid": "d79b832623ce96d13ae05477856cd016940a0008"
      },
      "cell_type": "code",
      "source": "# DF Transformed\nmin_size = data.shape[0]*0.9\nprint(data.shape)\ndata = data.dropna(thresh=min_size, axis=1)\nprint(data.shape)",
      "execution_count": null,
      "outputs": []
    },
    {
      "metadata": {
        "_uuid": "51d45e934e70ac8e20caacbcd8e3869055f1c4b1"
      },
      "cell_type": "markdown",
      "source": "Removed columns with more than 10% null values."
    },
    {
      "metadata": {
        "trusted": true,
        "_uuid": "b8ccce0dc99ad01b9c2e1c55cc059147ee2597d8"
      },
      "cell_type": "code",
      "source": "data.columns.sort_values()",
      "execution_count": null,
      "outputs": []
    },
    {
      "metadata": {
        "trusted": true,
        "_uuid": "8a92553353e116caac87239e26ec5016e8e64776"
      },
      "cell_type": "code",
      "source": "lst_to_be_removed = ['collection_recovery_fee', 'earliest_cr_line', 'funded_amnt_inv', 'inq_last_6mths', 'issue_d', 'last_credit_pull_d', 'last_pymnt_amnt', 'last_pymnt_d', 'member_id', 'out_prncp_inv', 'recoveries', 'title', 'total_pymnt', 'total_pymnt_inv', 'total_rec_int', 'total_rec_late_fee', 'total_rec_prncp', 'url']",
      "execution_count": null,
      "outputs": []
    },
    {
      "metadata": {
        "trusted": true,
        "_uuid": "be74ee13ec8713dd4efaaa4cc7e9da2fb5ac0eed"
      },
      "cell_type": "code",
      "source": "# DF Transformed\ndata.drop(lst_to_be_removed, axis=1, inplace=True)",
      "execution_count": null,
      "outputs": []
    },
    {
      "metadata": {
        "trusted": true,
        "_uuid": "9df15a6d29a407ab082e54730004dd3aecfb03be"
      },
      "cell_type": "code",
      "source": "data.head()",
      "execution_count": null,
      "outputs": []
    },
    {
      "metadata": {
        "trusted": true,
        "_uuid": "be712f82c7802ea5251e6ddfc90bfb26cdfe8213"
      },
      "cell_type": "code",
      "source": "data.shape",
      "execution_count": null,
      "outputs": []
    },
    {
      "metadata": {
        "_uuid": "87fcdb698825a6a3ec86147df32793c0ffacf192"
      },
      "cell_type": "markdown",
      "source": "After analysing from the data-dictionary we removed columns that we felt weren't related to the output. We also removed columns that won't be available at the time of loan application."
    },
    {
      "metadata": {
        "_uuid": "5f950b85457538227f8ad49efa7f670c54fd92e8"
      },
      "cell_type": "markdown",
      "source": "# Analysis of attributes"
    },
    {
      "metadata": {
        "trusted": true,
        "_uuid": "5682fd1d407aec19e019c36cb700e50c0434ec60"
      },
      "cell_type": "code",
      "source": "plt.figure(figsize=(8,4))\nsns.countplot(x='defaulter', data=data)\nplt.show()",
      "execution_count": null,
      "outputs": []
    },
    {
      "metadata": {
        "trusted": true,
        "_uuid": "f5df93433187ff60a3a67094b53ba56e4e8bc7f8"
      },
      "cell_type": "code",
      "source": "data.defaulter.value_counts()",
      "execution_count": null,
      "outputs": []
    },
    {
      "metadata": {
        "_uuid": "6abd86d2c30db16127a9c11ac5cef8ff9e835cb7"
      },
      "cell_type": "markdown",
      "source": "Extremely skewed dataset. Might create problems when building models."
    },
    {
      "metadata": {
        "trusted": true,
        "_uuid": "3a5d514373d7e21e02716b8c18738457c16fe2ac"
      },
      "cell_type": "code",
      "source": "data.columns.sort_values()",
      "execution_count": null,
      "outputs": []
    },
    {
      "metadata": {
        "trusted": true,
        "_uuid": "9261be2f8aca80a70ad39f856dde81cc43a73e66"
      },
      "cell_type": "code",
      "source": "to_remove = []",
      "execution_count": null,
      "outputs": []
    },
    {
      "metadata": {
        "_uuid": "407bea5017702c502cfd7e76b454abc4a2f42b95"
      },
      "cell_type": "markdown",
      "source": "## collection_12_ex_med"
    },
    {
      "metadata": {
        "trusted": true,
        "_uuid": "591c408ea46c0bc810ce2f145f623a2c72e178c2"
      },
      "cell_type": "code",
      "source": "data.collections_12_mths_ex_med.value_counts()",
      "execution_count": null,
      "outputs": []
    },
    {
      "metadata": {
        "trusted": true,
        "_uuid": "624c91adfb99c6cf6e51398e345880096d918e88"
      },
      "cell_type": "code",
      "source": "temp = data[data['collections_12_mths_ex_med'] > 0]\ntemp.shape[0]",
      "execution_count": null,
      "outputs": []
    },
    {
      "metadata": {
        "trusted": true,
        "_uuid": "506e6f37f3a8e0f5fa3d6561a59a71810302abcb"
      },
      "cell_type": "code",
      "source": "len(temp[temp.defaulter == -1])",
      "execution_count": null,
      "outputs": []
    },
    {
      "metadata": {
        "trusted": true,
        "_uuid": "fe9195bb297db68fc020c893a61484df5adfd02e"
      },
      "cell_type": "code",
      "source": "to_remove.append(\"collections_12_mths_ex_med\")",
      "execution_count": null,
      "outputs": []
    },
    {
      "metadata": {
        "_uuid": "c87864c4ce7196f22f2cc3d46ec50ab5d88118fd"
      },
      "cell_type": "markdown",
      "source": "Completely skewed attribute. Doesn't seem to contribute to output."
    },
    {
      "metadata": {
        "_uuid": "8312da594065507d6a641a8b2f0c8c7be1003a7f"
      },
      "cell_type": "markdown",
      "source": "## dti (Debt-to-income ratio)"
    },
    {
      "metadata": {
        "trusted": true,
        "_uuid": "034fc42d107454fc796f1b1c4fe05b7ddc5b2098"
      },
      "cell_type": "code",
      "source": "data.groupby('defaulter').dti.mean()",
      "execution_count": null,
      "outputs": []
    },
    {
      "metadata": {
        "trusted": true,
        "_uuid": "63e1aa882c156fb477a51e2e5abad7b7c4707de3"
      },
      "cell_type": "code",
      "source": "data.groupby('defaulter').dti.std()",
      "execution_count": null,
      "outputs": []
    },
    {
      "metadata": {
        "trusted": true,
        "_uuid": "9642e85da6d731ab1b6d0ed267bb8235ff010c87"
      },
      "cell_type": "code",
      "source": "plt.figure(figsize=(8,4))\nsns.boxplot(\"dti\", data=data)\nplt.show()",
      "execution_count": null,
      "outputs": []
    },
    {
      "metadata": {
        "trusted": true,
        "_uuid": "a68b910fd629f630de6dd996f8df791e0c92a2c9"
      },
      "cell_type": "code",
      "source": "data.dti.describe()",
      "execution_count": null,
      "outputs": []
    },
    {
      "metadata": {
        "trusted": true,
        "_uuid": "7038013234e562e7897edea44c4dc71ee10525af"
      },
      "cell_type": "code",
      "source": "temp = data[data.dti < 100] # just greater than 75th percentile\nplt.figure(figsize=(8,4))\nsns.boxplot(\"dti\", data=temp)\nplt.show()",
      "execution_count": null,
      "outputs": []
    },
    {
      "metadata": {
        "trusted": true,
        "_uuid": "985ccda31c1f27923d65c0dd059806c997c59552"
      },
      "cell_type": "code",
      "source": "data.shape[0] - temp.shape[0]",
      "execution_count": null,
      "outputs": []
    },
    {
      "metadata": {
        "trusted": true,
        "_uuid": "fc331a05e7ea3ba5add991583d58e945d9aa72ca"
      },
      "cell_type": "code",
      "source": "temp.defaulter.value_counts()",
      "execution_count": null,
      "outputs": []
    },
    {
      "metadata": {
        "trusted": true,
        "_uuid": "2e466dba944159fbc3cb4313381477d37533d428"
      },
      "cell_type": "code",
      "source": "temp.groupby(\"defaulter\").dti.mean()",
      "execution_count": null,
      "outputs": []
    },
    {
      "metadata": {
        "trusted": true,
        "_uuid": "6daef931bdf94aa06ad8c14d564ebbd364e459ae"
      },
      "cell_type": "code",
      "source": "temp.groupby(\"defaulter\").dti.std()",
      "execution_count": null,
      "outputs": []
    },
    {
      "metadata": {
        "_uuid": "55153cd64651ae8305a08920ba61eea7fc6c316c"
      },
      "cell_type": "markdown",
      "source": "The *dti* columns doesn't seem to contribute although logically it represents a good measure of loan repayment. The mean values are almost identical for both cases of defaulter. We can maybe analyze it by using it for building models."
    },
    {
      "metadata": {
        "_uuid": "dc7e06dedeef3d4420f588698e9a27ce05ca4ba4"
      },
      "cell_type": "markdown",
      "source": "# funded_amnt"
    },
    {
      "metadata": {
        "trusted": true,
        "_uuid": "bd9e637c5cd45e12de5d28494a2acb4738702a82"
      },
      "cell_type": "code",
      "source": "plt.figure(figsize=(8,4))\nsns.boxplot(\"funded_amnt\", data=data)\nplt.show()",
      "execution_count": null,
      "outputs": []
    },
    {
      "metadata": {
        "trusted": true,
        "_uuid": "4738ac7229543039d3a077f135812efb6e66d897"
      },
      "cell_type": "code",
      "source": "data.groupby(\"defaulter\").funded_amnt.mean()",
      "execution_count": null,
      "outputs": []
    },
    {
      "metadata": {
        "trusted": true,
        "_uuid": "2de2e20e93c170b138b111ac9248f3287fc8c925"
      },
      "cell_type": "code",
      "source": "data.groupby(\"defaulter\").funded_amnt.std()",
      "execution_count": null,
      "outputs": []
    },
    {
      "metadata": {
        "trusted": true,
        "_uuid": "8b205df79c1d1ba82e094c5ef80240d9f09dfa87"
      },
      "cell_type": "code",
      "source": "plt.figure(figsize=(8,8))\nsns.violinplot(x='defaulter', y='funded_amnt', data=data)\nplt.show()",
      "execution_count": null,
      "outputs": []
    },
    {
      "metadata": {
        "trusted": true,
        "_uuid": "bd2f88061ffbbd58861268ba8873f10dd5318562"
      },
      "cell_type": "code",
      "source": "to_remove.append('funded_amnt')",
      "execution_count": null,
      "outputs": []
    },
    {
      "metadata": {
        "_uuid": "009b912750242ae6f2461745675e05b413ae919f"
      },
      "cell_type": "markdown",
      "source": "Values seem to be distributed similarly across both defaulter values. Thus it does not seem to be contributing to the result."
    },
    {
      "metadata": {
        "_uuid": "30ab8fd82cab3cde5dec7aba16a4dddb86436c1d"
      },
      "cell_type": "markdown",
      "source": "## initial_list_status"
    },
    {
      "metadata": {
        "trusted": true,
        "_uuid": "1ec36a4ac13d2cb5502f1e605b00d430002b63ea"
      },
      "cell_type": "code",
      "source": "data.groupby('defaulter').initial_list_status.value_counts()",
      "execution_count": null,
      "outputs": []
    },
    {
      "metadata": {
        "trusted": true,
        "_uuid": "db241f64c1eb482ade8b82ccc96cf80974dbbfdc"
      },
      "cell_type": "code",
      "source": "plt.figure(figsize=(8,6))\nsns.countplot(x='initial_list_status', hue='defaulter', data=data)\nplt.ylabel('Frequency', fontsize=12)\nplt.xlabel('initial_list_status', fontsize=12)\nplt.show()",
      "execution_count": null,
      "outputs": []
    },
    {
      "metadata": {
        "_uuid": "5c3a5cf39f54157e35a113e880b54c8f23b10fe4"
      },
      "cell_type": "markdown",
      "source": "Probability of being a defaulter is slightly more incase of fractional loans ('f') than whole loans ('w'). It seems to be contributing slightly. This feature seems to be useful considering our skewed dataset."
    },
    {
      "metadata": {
        "_uuid": "15e8450cec350b6ba3765287a80a3f44c8ec9ae5"
      },
      "cell_type": "markdown",
      "source": "## int_rate (Interest rate)"
    },
    {
      "metadata": {
        "trusted": true,
        "_uuid": "02d193d9a6661f215e11ac9986d390b2f15410b1"
      },
      "cell_type": "code",
      "source": "plt.figure(figsize=(8,6))\nsns.violinplot(x='defaulter', y='int_rate', data=data)\nplt.show()",
      "execution_count": null,
      "outputs": []
    },
    {
      "metadata": {
        "trusted": true,
        "_uuid": "a00ee45555cb279e7674f131146d2edf4a7e03c6"
      },
      "cell_type": "code",
      "source": "data.groupby(\"defaulter\").int_rate.mean()",
      "execution_count": null,
      "outputs": []
    },
    {
      "metadata": {
        "trusted": true,
        "_uuid": "4a80c7dc825fea006caac219371dff1896498b0b"
      },
      "cell_type": "code",
      "source": "data.groupby(\"defaulter\").int_rate.std()",
      "execution_count": null,
      "outputs": []
    },
    {
      "metadata": {
        "_uuid": "f1d921888026943cf8874cffb9a811b1296ecc33"
      },
      "cell_type": "markdown",
      "source": "This feature seems important since a higher interest rate seems to lead to more defaulters."
    },
    {
      "metadata": {
        "_uuid": "427a19b6133bfdbfbca30960cc69e338f2543786"
      },
      "cell_type": "markdown",
      "source": "## policy_code"
    },
    {
      "metadata": {
        "trusted": true,
        "_uuid": "76756d941f16df0532e7756cebbb61f3d1d3ec4f"
      },
      "cell_type": "code",
      "source": "data.policy_code.value_counts()",
      "execution_count": null,
      "outputs": []
    },
    {
      "metadata": {
        "trusted": true,
        "_uuid": "3f9980f788eedfab67a613ad239c6796de1961aa"
      },
      "cell_type": "code",
      "source": "to_remove.append(\"policy_code\")",
      "execution_count": null,
      "outputs": []
    },
    {
      "metadata": {
        "_uuid": "7982b45713726ab0a42ce314200d1c26dc052050"
      },
      "cell_type": "markdown",
      "source": "Clearly not useful since it has only one value for all columns."
    },
    {
      "metadata": {
        "_uuid": "adb077369fecc125b120a7894ffc0f9b3f4d4e48"
      },
      "cell_type": "markdown",
      "source": "# pub_rec"
    },
    {
      "metadata": {
        "trusted": true,
        "_uuid": "b58e65dcc4993aba5f347b6540a550063f6f8426"
      },
      "cell_type": "code",
      "source": "data.pub_rec.value_counts()",
      "execution_count": null,
      "outputs": []
    },
    {
      "metadata": {
        "trusted": true,
        "_uuid": "0028a434acc90c692b1b5d055c0d27f2378b5587"
      },
      "cell_type": "code",
      "source": "data.groupby(\"pub_rec\").defaulter.value_counts()",
      "execution_count": null,
      "outputs": []
    },
    {
      "metadata": {
        "trusted": true,
        "_uuid": "a1581d6335d935971200d406ad75909255a17156"
      },
      "cell_type": "code",
      "source": "to_remove.append(\"pub_rec\")",
      "execution_count": null,
      "outputs": []
    },
    {
      "metadata": {
        "_uuid": "baabb80a6cfd8e010a0b9e319dd36a81e3436c01"
      },
      "cell_type": "markdown",
      "source": "The probability of a defaulter given the pub_rec value doesn't seem to be much different than just the probability of the class. The higher values having defaulter as 1 might be because of the skewed data set."
    },
    {
      "metadata": {
        "_uuid": "e8fc942b181e91021fdde6c75cc6745c2c25d997"
      },
      "cell_type": "markdown",
      "source": "## pymnt_plan"
    },
    {
      "metadata": {
        "trusted": true,
        "_uuid": "0aedaaf4342a054e66a8d0c27c269c0c9cf2b989"
      },
      "cell_type": "code",
      "source": "data.pymnt_plan.value_counts()",
      "execution_count": null,
      "outputs": []
    },
    {
      "metadata": {
        "trusted": true,
        "_uuid": "0b5b565f5d7bad5d3e47b31acbe6bcb0ea65e2f7"
      },
      "cell_type": "code",
      "source": "data.groupby(\"pymnt_plan\").defaulter.value_counts()",
      "execution_count": null,
      "outputs": []
    },
    {
      "metadata": {
        "trusted": true,
        "_uuid": "8b571dd8e0b5c7c6f4e69779d18a2916b1893854"
      },
      "cell_type": "code",
      "source": "to_remove.append(\"pymnt_plan\")",
      "execution_count": null,
      "outputs": []
    },
    {
      "metadata": {
        "_uuid": "fec48388cb983d226294ca1b9bf79731e4a1d4a0"
      },
      "cell_type": "markdown",
      "source": "The attribute values are skewed and the distribution of defaulters is also uniform. This attribute doesn't seem to be useful."
    },
    {
      "metadata": {
        "_uuid": "aec3c002baf93aed91439e806d35155b2210590c"
      },
      "cell_type": "markdown",
      "source": "## revol_util"
    },
    {
      "metadata": {
        "trusted": true,
        "_uuid": "da56646168b3d2c68667b12ce856cdcce6cfd7dd"
      },
      "cell_type": "code",
      "source": "plt.figure(figsize=(8,4))\nsns.boxplot(\"revol_util\", data=data)\nplt.show()",
      "execution_count": null,
      "outputs": []
    },
    {
      "metadata": {
        "trusted": true,
        "_uuid": "8219bf1c2b2aa37d3e002576889f90b49b0f0277"
      },
      "cell_type": "code",
      "source": "temp = data[data.revol_util < 120] # Just near whisker end\n\nplt.figure(figsize=(8,4))\nsns.violinplot(x='defaulter', y='revol_util', data=temp) # We use \nplt.show()",
      "execution_count": null,
      "outputs": []
    },
    {
      "metadata": {
        "trusted": true,
        "_uuid": "6435764db6e8114fae52d6f1ce4dd28c0b1a7881"
      },
      "cell_type": "code",
      "source": "data.groupby(\"defaulter\").revol_util.mean()",
      "execution_count": null,
      "outputs": []
    },
    {
      "metadata": {
        "trusted": true,
        "_uuid": "70fdd6bb400073889000ba0c6323c1a1a23e2d28"
      },
      "cell_type": "code",
      "source": "data.groupby(\"defaulter\").revol_util.std()",
      "execution_count": null,
      "outputs": []
    },
    {
      "metadata": {
        "trusted": true,
        "_uuid": "f98ad4442eb1876a8d2a532630cd60f74d2092dd"
      },
      "cell_type": "code",
      "source": "to_remove.append(\"revol_util\")",
      "execution_count": null,
      "outputs": []
    },
    {
      "metadata": {
        "_uuid": "6be6030ee06302b652abd2ff283819dad1411b37"
      },
      "cell_type": "markdown",
      "source": "Even this attribute doesn't seem to affect the condtional distribution of defaulter."
    },
    {
      "metadata": {
        "_uuid": "23aca883ca7356dbb19fc5aee9a4180c47398657"
      },
      "cell_type": "markdown",
      "source": "## sub_grade"
    },
    {
      "metadata": {
        "trusted": true,
        "_uuid": "5e29e3ca0a86d4e850106404c178e3463377da22"
      },
      "cell_type": "code",
      "source": "len(data.sub_grade.unique())",
      "execution_count": null,
      "outputs": []
    },
    {
      "metadata": {
        "trusted": true,
        "_uuid": "a04c9e5c6e153fcdef2b28593ad65e9842c5495c"
      },
      "cell_type": "code",
      "source": "data.sub_grade.value_counts()",
      "execution_count": null,
      "outputs": []
    },
    {
      "metadata": {
        "trusted": true,
        "_uuid": "1c076764ca37d2a48cba6b6fb3225ebd51a27405"
      },
      "cell_type": "code",
      "source": "data.groupby(\"sub_grade\").defaulter.value_counts()",
      "execution_count": null,
      "outputs": []
    },
    {
      "metadata": {
        "trusted": true,
        "_uuid": "3aec360ec11558f4452c1d15ad5fa988bd7a3b4c"
      },
      "cell_type": "code",
      "source": "data.groupby(\"grade\").sub_grade.value_counts()",
      "execution_count": null,
      "outputs": []
    },
    {
      "metadata": {
        "trusted": true,
        "_uuid": "8a8bc8a059ae7c5afae3123adf091f48ddc570cc"
      },
      "cell_type": "code",
      "source": "temp = pd.crosstab(data.sub_grade, data.defaulter)\ntemp.head()",
      "execution_count": null,
      "outputs": []
    },
    {
      "metadata": {
        "trusted": true,
        "_uuid": "954828203401afdd48357d38c58c8c1d93dc7cfa"
      },
      "cell_type": "code",
      "source": "temp[\"ratio\"] = temp[-1] / temp[1]\ntemp.head()",
      "execution_count": null,
      "outputs": []
    },
    {
      "metadata": {
        "trusted": true,
        "_uuid": "7060bef504c66f04ac9247d57630fef2aa0d92db"
      },
      "cell_type": "code",
      "source": "temp[\"sub_grade\"] = temp.index\ntemp.head()",
      "execution_count": null,
      "outputs": []
    },
    {
      "metadata": {
        "trusted": true,
        "_uuid": "e795241067bbb5a7533be481e833a7eb5ff82b6e"
      },
      "cell_type": "code",
      "source": "plt.figure(figsize=(14,6))\nsns.barplot(x='sub_grade', y=\"ratio\", data=temp)\nplt.ylabel('Ratio of defaulters to non-defaulters', fontsize=12)\nplt.xlabel('sub_grade', fontsize=12)\nplt.show()",
      "execution_count": null,
      "outputs": []
    },
    {
      "metadata": {
        "_uuid": "244c9c2840de9aed93195495f14669595dc17096"
      },
      "cell_type": "markdown",
      "source": "sub_grade seems to be an important column since the ratio of defaulters to non-defaulters increases with decrease in subgrade. We can compare it with grade when we build models, maybe with respect to measures like info gain."
    },
    {
      "metadata": {
        "_uuid": "b8a4ce21a5145f716fb5264d59817c02cea3a45b"
      },
      "cell_type": "markdown",
      "source": "## application_type"
    },
    {
      "metadata": {
        "trusted": true,
        "_uuid": "63c8198698c2e2af6b79c10a5288b282cd7bae53"
      },
      "cell_type": "code",
      "source": "data.groupby(\"application_type\").defaulter.value_counts()",
      "execution_count": null,
      "outputs": []
    },
    {
      "metadata": {
        "trusted": true,
        "_uuid": "c3b8152b2b343442a0515e14b2f8b5069b3be0c7"
      },
      "cell_type": "code",
      "source": "to_remove.append(\"application_type\")",
      "execution_count": null,
      "outputs": []
    },
    {
      "metadata": {
        "_uuid": "13157ed2c9eb7bb2c0519eb316a759c44339c8bc"
      },
      "cell_type": "markdown",
      "source": "There doesn't seem to be any relation between defaulter and application_type."
    },
    {
      "metadata": {
        "_uuid": "cfe3be4f768451187b26bb7d53e127bdebf8016c"
      },
      "cell_type": "markdown",
      "source": "## delinq_2yrs"
    },
    {
      "metadata": {
        "trusted": true,
        "_uuid": "e3a3300a9a1f2ae97c1d8a74254e6e52c96d5e82"
      },
      "cell_type": "code",
      "source": "len(data.delinq_2yrs.unique())",
      "execution_count": null,
      "outputs": []
    },
    {
      "metadata": {
        "trusted": true,
        "_uuid": "cb6c52daa730a4f3abc2b4c1e46cbd56f68f32fa"
      },
      "cell_type": "code",
      "source": "data.groupby(\"delinq_2yrs\").defaulter.value_counts()",
      "execution_count": null,
      "outputs": []
    },
    {
      "metadata": {
        "trusted": true,
        "_uuid": "d0939f6f5d693e5b316cb22bf35d7a5dd9f3d6fe"
      },
      "cell_type": "code",
      "source": "temp = pd.crosstab(data.delinq_2yrs, data.defaulter)\ntemp.head()",
      "execution_count": null,
      "outputs": []
    },
    {
      "metadata": {
        "trusted": true,
        "_uuid": "4e04be6c4296b2231c3e7fb1648a5cf6364885e5"
      },
      "cell_type": "code",
      "source": "temp[\"ratio\"] = temp.apply(lambda x: (x[-1]/x[1]), axis=1)\ntemp.head()",
      "execution_count": null,
      "outputs": []
    },
    {
      "metadata": {
        "trusted": true,
        "_uuid": "bffdeca51034277c90a73b723ec7422dbdae5e7d"
      },
      "cell_type": "code",
      "source": "temp[\"delinq\"] = temp.index\nplt.figure(figsize=(14,6))\nsns.barplot(x='delinq', y=\"ratio\", data=temp)\nplt.ylabel('Ratio of defaulters to non-defaulters', fontsize=12)\nplt.xlabel('delinq_2yrs', fontsize=12)\nplt.show()",
      "execution_count": null,
      "outputs": []
    },
    {
      "metadata": {
        "trusted": true,
        "_uuid": "b1140e05cf11448e3bb331ef1fc75248bc55c898"
      },
      "cell_type": "code",
      "source": "to_remove.append(\"delinq_2yrs\")",
      "execution_count": null,
      "outputs": []
    },
    {
      "metadata": {
        "_uuid": "fe7dc2e06b000ec46411c633b868f81d1a394563"
      },
      "cell_type": "markdown",
      "source": "The probability of a defaulter conditioned on the delinq_2yrs value is almost same as just the probability of a defaulter suggesting that the gain is less. Wherever the probability is high the number of instances are extremely low i.e. around 1-10"
    },
    {
      "metadata": {
        "_uuid": "ad21dab318b2c0f2cc9843d45d247dad1df534fe"
      },
      "cell_type": "markdown",
      "source": "## emp_title"
    },
    {
      "metadata": {
        "trusted": true,
        "_uuid": "0ae6eef0bad56dc7897e2e0f1ec6e069fb9feeb0"
      },
      "cell_type": "code",
      "source": "len(data.emp_title.unique())",
      "execution_count": null,
      "outputs": []
    },
    {
      "metadata": {
        "trusted": true,
        "_uuid": "c5293373edbf7bc475c5fb8bddb8dba848a5c0d6"
      },
      "cell_type": "code",
      "source": "data.emp_title.value_counts()",
      "execution_count": null,
      "outputs": []
    },
    {
      "metadata": {
        "trusted": true,
        "_uuid": "0d547e7ec9436f4143a4d4b20811a3075059b7ca"
      },
      "cell_type": "code",
      "source": "data[data.emp_title.isna()].defaulter.value_counts()",
      "execution_count": null,
      "outputs": []
    },
    {
      "metadata": {
        "_uuid": "010bb30305a83d02bdcd07e32f6aa2fe2db96200"
      },
      "cell_type": "markdown",
      "source": "The null rows can't be dropped due to high number of defaulters. But the column logically contributes to the final output."
    },
    {
      "metadata": {
        "_uuid": "f8c486cc910b24ef98e8b931a05bffa29e9eb58c"
      },
      "cell_type": "markdown",
      "source": "## purpose"
    },
    {
      "metadata": {
        "trusted": true,
        "_uuid": "9964dba4e00ab4ac4dabfddd311aca6c8da65ebe"
      },
      "cell_type": "code",
      "source": "data.purpose.value_counts()",
      "execution_count": null,
      "outputs": []
    },
    {
      "metadata": {
        "trusted": true,
        "_uuid": "105fea594c52e07cf065721fab522644f867b6aa"
      },
      "cell_type": "code",
      "source": "data.groupby('purpose').defaulter.value_counts()",
      "execution_count": null,
      "outputs": []
    },
    {
      "metadata": {
        "trusted": true,
        "_uuid": "3cd230787ea29869492e93b15b18db5739ab9bdb"
      },
      "cell_type": "code",
      "source": "temp = pd.crosstab(data.purpose, data.defaulter)\ntemp[\"ratio\"] = temp.apply(lambda x: (x[-1]/x[1]), axis=1)\ntemp[\"purpose\"] = temp.index\ntemp.head()",
      "execution_count": null,
      "outputs": []
    },
    {
      "metadata": {
        "trusted": true,
        "_uuid": "b2d6db3ef4cab9450d865bcf1e16d8cbd715f579"
      },
      "cell_type": "code",
      "source": "plt.figure(figsize=(16,6))\nsns.barplot(x='purpose', y=\"ratio\", data=temp, order=temp.sort_values(\"ratio\").purpose.values)\nplt.ylabel('Ratio of defaulters to non-defaulters', fontsize=12)\nplt.xlabel('purpose', fontsize=12)\nplt.show()",
      "execution_count": null,
      "outputs": []
    },
    {
      "metadata": {
        "_uuid": "ca4137b55fad9554019c53051ab23c8214c48dc0"
      },
      "cell_type": "markdown",
      "source": "The ratio of defaulters conditioned on the purpose value is quite high which indicates that this is a good column."
    },
    {
      "metadata": {
        "_uuid": "082b8d009e9714cf46dbb709e71479419c9740f2"
      },
      "cell_type": "markdown",
      "source": "## revol_bal"
    },
    {
      "metadata": {
        "trusted": true,
        "_uuid": "62acc9813d9ed845363df09f00b97bf28f9ebb83"
      },
      "cell_type": "code",
      "source": "plt.figure(figsize=(8,4))\nsns.violinplot(\"revol_bal\", data=data) # We use \nplt.show()",
      "execution_count": null,
      "outputs": []
    },
    {
      "metadata": {
        "trusted": true,
        "_uuid": "16f8490fa9512072b869a73f592b1736fb7159cc"
      },
      "cell_type": "code",
      "source": "data.revol_bal.describe()",
      "execution_count": null,
      "outputs": []
    },
    {
      "metadata": {
        "trusted": true,
        "_uuid": "0232e0d104072d0d4064182c079ae244b32f7cfd"
      },
      "cell_type": "code",
      "source": "data.groupby(\"defaulter\").revol_bal.mean()",
      "execution_count": null,
      "outputs": []
    },
    {
      "metadata": {
        "trusted": true,
        "_uuid": "41700f6b848110600164b5fde9b7e6d0f3c1215f"
      },
      "cell_type": "code",
      "source": "data.groupby(\"defaulter\").revol_bal.std()",
      "execution_count": null,
      "outputs": []
    },
    {
      "metadata": {
        "trusted": true,
        "_uuid": "7bbebc35f84e837dc765cd32a33b08b15a177e03"
      },
      "cell_type": "code",
      "source": "plt.figure(figsize=(8,4))\nsns.violinplot(y=\"revol_bal\", x=\"defaulter\", data=data[data.revol_bal < 50000]) # We remove outliers in the plot\nplt.show()",
      "execution_count": null,
      "outputs": []
    },
    {
      "metadata": {
        "trusted": true,
        "_uuid": "db8b87e8163e26766375b91f75ab74b83cd117f9"
      },
      "cell_type": "code",
      "source": "to_remove.append(\"revol_bal\")",
      "execution_count": null,
      "outputs": []
    },
    {
      "metadata": {
        "_uuid": "284858cc7ad9423854dab3d7d93068c21a750853"
      },
      "cell_type": "markdown",
      "source": "There doesn't seem to be any difference in the distribution. This feature doesn't seem too useful."
    },
    {
      "metadata": {
        "_uuid": "b2d0ee39af010a1804c4ff0bb59801fc808c6431"
      },
      "cell_type": "markdown",
      "source": "# Short Summary"
    },
    {
      "metadata": {
        "trusted": true,
        "_uuid": "3188d8ada2221e23cc348e85cdd88d3eba5ce2ad"
      },
      "cell_type": "code",
      "source": "to_remove.append(\"loan_status\")\nprint(to_remove)",
      "execution_count": null,
      "outputs": []
    },
    {
      "metadata": {
        "trusted": true,
        "_uuid": "ec75ac65f4c377f7556a1d49b5931e9a85a8f3cb"
      },
      "cell_type": "code",
      "source": "data.isna().sum()",
      "execution_count": null,
      "outputs": []
    },
    {
      "metadata": {
        "trusted": true,
        "_uuid": "15dbdd6cd9635b166a29c8f66f6114aca9f77604"
      },
      "cell_type": "code",
      "source": "y = len(data[data.defaulter == -1])\n\ndef defaulter_in_null(df, attr):\n    temp = df[df[attr].isna()]\n    x = len(temp[df.defaulter == -1])\n    return (x, x/len(temp), x/y)\n    \nattrs = [\n    \"total_rev_hi_lim\",\n    \"tot_cur_bal\",\n    \"tot_coll_amt\",\n    \"acc_now_delinq\",\n    \"collections_12_mths_ex_med\",\n    \"total_acc\",\n    \"revol_util\",\n    \"pub_rec\",\n    \"open_acc\",\n    \"delinq_2yrs\",\n    \"emp_length\",\n    \"emp_title\"\n]\n\nfor i in attrs:\n    print(defaulter_in_null(data, i))",
      "execution_count": null,
      "outputs": []
    },
    {
      "metadata": {
        "_uuid": "6f9b679e5625e493feada13fc37ab77e6e1f740a"
      },
      "cell_type": "markdown",
      "source": "We'll need to handle these null values in a proper way."
    },
    {
      "metadata": {
        "_uuid": "cf7910f3e7f3224ae054f746887323d83ace84f3"
      },
      "cell_type": "markdown",
      "source": "## term"
    },
    {
      "metadata": {
        "trusted": true,
        "_uuid": "adc8afb68b7f385322ee7b7867c579728a39c8a1"
      },
      "cell_type": "code",
      "source": "data.term = data.term.apply(lambda x: int(re.search(r'\\d+', x).group()))",
      "execution_count": null,
      "outputs": []
    },
    {
      "metadata": {
        "trusted": true,
        "_uuid": "ee5e454ddaeed41dd5a441a496941b3c988ec1f7"
      },
      "cell_type": "code",
      "source": "data.groupby(\"term\").defaulter.value_counts()",
      "execution_count": null,
      "outputs": []
    },
    {
      "metadata": {
        "_uuid": "a8fb40f6183f3e0f497be2dbc02d389b92e12f46"
      },
      "cell_type": "markdown",
      "source": "Once again there doesn't seem to be an increase in the probability of a defaulter conditioned on the value of *term*."
    },
    {
      "metadata": {
        "_uuid": "ec7159799e65895a003fa4a57c702e9d37d783e6"
      },
      "cell_type": "markdown",
      "source": "## verification_status"
    },
    {
      "metadata": {
        "trusted": true,
        "_uuid": "2dca9a90d7fd7fc3f314ca2c3acfb1b930412261"
      },
      "cell_type": "code",
      "source": "data.groupby(\"verification_status\").defaulter.value_counts()",
      "execution_count": null,
      "outputs": []
    },
    {
      "metadata": {
        "trusted": true,
        "_uuid": "cc61abd5b001a6ad88552007c087f41e3fac6959"
      },
      "cell_type": "code",
      "source": "data.emp_length.unique()",
      "execution_count": null,
      "outputs": []
    },
    {
      "metadata": {
        "trusted": true,
        "_uuid": "ef1d6a64306c02f4ca9096953a496bee90e78ced"
      },
      "cell_type": "code",
      "source": "temp = pd.crosstab(data.verification_status, data.defaulter)\ntemp[\"ratio\"] = temp.apply(lambda x: (x[-1]/x[1]), axis=1)\ntemp[\"vf\"] = temp.index\ntemp.head()",
      "execution_count": null,
      "outputs": []
    },
    {
      "metadata": {
        "trusted": true,
        "_uuid": "a0817c67ef29f1ab0d00376136b40b3331715ffe"
      },
      "cell_type": "code",
      "source": "plt.figure(figsize=(16,6))\nsns.barplot(x='vf', y=\"ratio\", data=temp, order=temp.sort_values(\"ratio\").vf.values)\nplt.ylabel('Ratio of defaulters to non-defaulters', fontsize=12)\nplt.xlabel('Verification Status', fontsize=12)\nplt.show()",
      "execution_count": null,
      "outputs": []
    },
    {
      "metadata": {
        "_uuid": "0ff8dc79102d6047223b65b1c4eaeca430b4fe26"
      },
      "cell_type": "markdown",
      "source": "Considering that the ratio of defaulters to non-defaulters is 0.7 we don't gain much information by conditioning on verification_status."
    },
    {
      "metadata": {
        "_uuid": "6a35624c32743f21240a753c4f02bb1b1a7df20f"
      },
      "cell_type": "markdown",
      "source": "# Train Test Split"
    },
    {
      "metadata": {
        "trusted": true,
        "_uuid": "f53a789faaa1e90d51497040b338a1bcfbc9b288"
      },
      "cell_type": "code",
      "source": "train, test = sklearn.model_selection.train_test_split(data, random_state=100, shuffle=True, test_size=0.3)",
      "execution_count": null,
      "outputs": []
    },
    {
      "metadata": {
        "trusted": true,
        "_uuid": "6c4a887dd56a199cc1d6a9e0350b23a0327a1a4d"
      },
      "cell_type": "code",
      "source": "print(\"Train:\", train.shape)\nprint(\"Test:\", test.shape)",
      "execution_count": null,
      "outputs": []
    },
    {
      "metadata": {
        "trusted": true,
        "_uuid": "4932dcb0c50216149da75031fed1cec22fc65d9a"
      },
      "cell_type": "code",
      "source": "print(\"Train Defaulters:\", len(train[train.defaulter == -1]))\nprint(\"Test Defaulters:\", len(test[test.defaulter == -1]))",
      "execution_count": null,
      "outputs": []
    },
    {
      "metadata": {
        "trusted": true,
        "_uuid": "7a7c422db87b192527918a36a7af69d071f1f142"
      },
      "cell_type": "code",
      "source": "train.to_csv(\"train.csv\")\ntest.to_csv(\"test.csv\")",
      "execution_count": null,
      "outputs": []
    }
  ],
  "metadata": {
    "kernelspec": {
      "display_name": "Python 3",
      "language": "python",
      "name": "python3"
    },
    "language_info": {
      "name": "python",
      "version": "3.6.6",
      "mimetype": "text/x-python",
      "codemirror_mode": {
        "name": "ipython",
        "version": 3
      },
      "pygments_lexer": "ipython3",
      "nbconvert_exporter": "python",
      "file_extension": ".py"
    }
  },
  "nbformat": 4,
  "nbformat_minor": 1
}